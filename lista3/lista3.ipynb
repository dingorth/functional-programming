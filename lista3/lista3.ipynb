{
 "cells": [
  {
   "cell_type": "markdown",
   "metadata": {},
   "source": [
    "# Lista 3"
   ]
  },
  {
   "cell_type": "code",
   "execution_count": 3,
   "metadata": {},
   "outputs": [
    {
     "data": {
      "text/plain": [
       "val polynomial1 : float list = [1.; 0.; -1.; 2.]\n"
      ]
     },
     "execution_count": 3,
     "metadata": {},
     "output_type": "execute_result"
    }
   ],
   "source": [
    "let polynomial1 = [1.0; 0.; -1.; 2.]"
   ]
  },
  {
   "cell_type": "markdown",
   "metadata": {},
   "source": [
    "## Zadanie 1\n",
    "\n",
    "Załóżmy, że wielomiany o współczynnikach rzeczywistych są reprezentowane jako listy współczynników od najwyższej potęgi do najniższej, np. [1.;0.;-1.;2.] oznacza wielomian x³ - x + 2. Napisz funkcję, która dla zadanej listy reprezentującej wielomian i dla danego argumentu x typu float, obliczy wartość tego wielomianu w punkcie x w oparciu o schemat Hornera. Napisz tę funkcję w dwóch wersjach: raz za pomocą rekursji ogonowej, a następnie bez jawnego użycia rekursji, korzystając z odpowiedniej funkcji bibliotecznej modułu List."
   ]
  },
  {
   "cell_type": "code",
   "execution_count": 4,
   "metadata": {},
   "outputs": [
    {
     "data": {
      "text/plain": [
       "val horner1 : float -> float list -> float = <fun>\n"
      ]
     },
     "execution_count": 4,
     "metadata": {},
     "output_type": "execute_result"
    },
    {
     "data": {
      "text/plain": [
       "val horner2 : float -> float list -> float = <fun>\n"
      ]
     },
     "execution_count": 4,
     "metadata": {},
     "output_type": "execute_result"
    }
   ],
   "source": [
    "let horner1 x l = \n",
    "    let rec aux acc x = function\n",
    "        | []    -> acc\n",
    "        | y::ys -> aux (acc *. x +. y) x ys\n",
    "    in\n",
    "        aux 0. x l\n",
    "\n",
    "let horner2 x l = List.fold_left (fun a b -> a *. x +. b) 0. l"
   ]
  },
  {
   "cell_type": "code",
   "execution_count": 9,
   "metadata": {},
   "outputs": [
    {
     "data": {
      "text/plain": [
       "- : float = 3.875\n"
      ]
     },
     "execution_count": 9,
     "metadata": {},
     "output_type": "execute_result"
    },
    {
     "data": {
      "text/plain": [
       "- : float = 3.875\n"
      ]
     },
     "execution_count": 9,
     "metadata": {},
     "output_type": "execute_result"
    }
   ],
   "source": [
    "horner1 1.5 polynomial1;;\n",
    "horner2 1.5 polynomial1"
   ]
  },
  {
   "cell_type": "markdown",
   "metadata": {},
   "source": [
    "## Zadanie 2\n",
    "Załóżmy, że zmieniamy reprezentację wielomianu tak, by współczynniki w liście były uszeregowane od najniższej potęgi do najwyższej (wtedy [1.;0.;-1.;2.] oznacza wielomian 2x³ - x² + 1). Zmodyfikuj obie funkcje z Zadania 1 tak, by poprawnie liczyły wartość wielomianu w tej reprezentacji (rekursja w rozwiązaniu z jawną rekursją nie musi być ogonowa)."
   ]
  },
  {
   "cell_type": "code",
   "execution_count": 10,
   "metadata": {},
   "outputs": [
    {
     "data": {
      "text/plain": [
       "val horner3 : float -> float list -> float = <fun>\n"
      ]
     },
     "execution_count": 10,
     "metadata": {},
     "output_type": "execute_result"
    },
    {
     "data": {
      "text/plain": [
       "val horner4 : float -> float list -> float = <fun>\n"
      ]
     },
     "execution_count": 10,
     "metadata": {},
     "output_type": "execute_result"
    }
   ],
   "source": [
    "let horner3 x l = \n",
    "    let rec aux x = function\n",
    "        | []    -> 0.\n",
    "        | y::ys -> y +. x *. (aux x ys)\n",
    "    in\n",
    "        aux x l\n",
    "\n",
    "let horner4 x l = List.fold_right (fun a b -> a +. b *. x) l 0."
   ]
  },
  {
   "cell_type": "code",
   "execution_count": 11,
   "metadata": {},
   "outputs": [
    {
     "data": {
      "text/plain": [
       "- : float = 3.875\n"
      ]
     },
     "execution_count": 11,
     "metadata": {},
     "output_type": "execute_result"
    },
    {
     "data": {
      "text/plain": [
       "- : float = 3.875\n"
      ]
     },
     "execution_count": 11,
     "metadata": {},
     "output_type": "execute_result"
    }
   ],
   "source": [
    "horner3 1.5 @@ List.rev polynomial1;;\n",
    "horner4 1.5 @@ List.rev polynomial1"
   ]
  },
  {
   "cell_type": "markdown",
   "metadata": {},
   "source": [
    "## Zadanie 3\n",
    "Dla reprezentacji wielomianu z Zadania 2 napisz funkcję (ponownie w dwóch wersjach) obliczającą pochodną wielomianu (np. dla listy [1.;0.;-1.;2.] funkcja ta powinna utworzyć listę [0.;-2.;6.])."
   ]
  },
  {
   "cell_type": "code",
   "execution_count": 6,
   "metadata": {},
   "outputs": [
    {
     "data": {
      "text/plain": [
       "val derivative1 : float list -> float list = <fun>\n"
      ]
     },
     "execution_count": 6,
     "metadata": {},
     "output_type": "execute_result"
    },
    {
     "data": {
      "text/plain": [
       "val derivative1' : float list -> float list = <fun>\n"
      ]
     },
     "execution_count": 6,
     "metadata": {},
     "output_type": "execute_result"
    },
    {
     "data": {
      "text/plain": [
       "val derivative2 : float list -> float list = <fun>\n"
      ]
     },
     "execution_count": 6,
     "metadata": {},
     "output_type": "execute_result"
    },
    {
     "data": {
      "text/plain": [
       "val derivative2' : float list -> float list = <fun>\n"
      ]
     },
     "execution_count": 6,
     "metadata": {},
     "output_type": "execute_result"
    },
    {
     "data": {
      "text/plain": [
       "val derivativeJulian : float list -> float list = <fun>\n"
      ]
     },
     "execution_count": 6,
     "metadata": {},
     "output_type": "execute_result"
    }
   ],
   "source": [
    "let derivative1 l = \n",
    "    let rec aux n = function\n",
    "        | []    -> []\n",
    "        | x::xs -> x *. n :: (aux (n +. 1.) xs)\n",
    "    in if l == [] then [] else aux 1. (List.tl l)\n",
    "    \n",
    "(* inaczej rozwiązane sprawdzenie listy pustej | zeby nie bylo bledu przy braniu glowy listy pustej *)\n",
    "let derivative1' = function\n",
    "    | []    -> []\n",
    "    | _::xs -> let rec aux n = function\n",
    "        | []    -> []\n",
    "        | y::ys -> y *. n :: (aux (n +. 1.) ys)\n",
    "        in aux 1. xs\n",
    "\n",
    "(* fold_left needs List.rev *)\n",
    "let derivative2 = function\n",
    "    | []    -> []\n",
    "    | _::xs -> let aux a b = \n",
    "        let n = fst a and acc = snd a in\n",
    "        (n +. 1., b *. n :: acc)\n",
    "    in\n",
    "        List.rev @@ snd @@ List.fold_left aux (1.0 , []) xs\n",
    "        \n",
    "(* fold_right needs List.length *)\n",
    "let derivative2' = function\n",
    "    | []    -> []\n",
    "    | _::xs -> let aux a b = \n",
    "        let n = fst b and acc = snd b in\n",
    "        (n -. 1., a *. n :: acc)\n",
    "    in\n",
    "        snd @@ List.fold_right aux xs (float_of_int @@ List.length xs, [])\n",
    "        \n",
    "(* written by Julian Pszczołowski *)\n",
    "(* not working for empty list *)\n",
    "let derivativeJulian l =\n",
    "  let f acc x =\n",
    "    let n = snd (List.hd acc) in (x *. n, n +. 1.)::acc\n",
    "  in List.fold_left f [(1., 0.)] l |> List.rev |> List.tl |> List.tl |> List.map fst;;\n",
    "  \n",
    "let derivativeJulian2 l =\n",
    "  if l = [] then []\n",
    "  else let f acc x = let n = snd acc in (x *. n::fst acc, n +. 1.)\n",
    "  in List.fold_left f ([], 0.) l |> fst |> List.rev |> List.tl;;"
   ]
  },
  {
   "cell_type": "code",
   "execution_count": 5,
   "metadata": {},
   "outputs": [
    {
     "data": {
      "text/plain": [
       "- : float list = [0.; -2.; 6.]\n"
      ]
     },
     "execution_count": 5,
     "metadata": {},
     "output_type": "execute_result"
    },
    {
     "data": {
      "text/plain": [
       "- : float list = [0.; -2.; 6.]\n"
      ]
     },
     "execution_count": 5,
     "metadata": {},
     "output_type": "execute_result"
    },
    {
     "data": {
      "text/plain": [
       "- : float list = [0.; -2.; 6.]\n"
      ]
     },
     "execution_count": 5,
     "metadata": {},
     "output_type": "execute_result"
    },
    {
     "data": {
      "text/plain": [
       "- : float list = [0.; -2.; 6.]\n"
      ]
     },
     "execution_count": 5,
     "metadata": {},
     "output_type": "execute_result"
    }
   ],
   "source": [
    "derivative1' [1.;0.;-1.;2.];;\n",
    "derivative2 [1.;0.;-1.;2.];;\n",
    "derivative2' [1.;0.;-1.;2.];;\n",
    "derivativeJulian [1.;0.;-1.;2.];;"
   ]
  },
  {
   "cell_type": "markdown",
   "metadata": {},
   "source": [
    "## Zadanie 4\n",
    "Niech macierz kwadratowa n × n będzie reprezentowana wierszami jako lista list.\n",
    "\n",
    "* Napisz funkcję sprawdzającą, czy dana lista jest poprawną reprezentacją macierzy kwadratowej.\n",
    "* Napisz funkcję, która dla zadanej macierzy kwadratowej i liczby naturalnej n wyznacza n-tą kolumnę macierzy.\n",
    "* Wykorzystaj funkcję z poprzedniego punktu do napisania funkcji transpozycji macierzy.\n",
    "* Napisz funkcję zip, która dla danych dwóch list równej długości tworzy listę złożoną z par elementów obu list znajdujących się na tych samych pozycjach, np. zip [1.;2.;3.] [\"a\";\"b\";\"c\"] = [(1.,\"a\");(2.,\"b\");(3.,\"c\")].\n",
    "* Korzystając z funkcji zip, napisz funkcję zipf, która dla danych dwóch list typów 'a list i 'b list i funkcji dwuargumentowej f typu 'a -> 'b -> 'c tworzy listę złożoną z wartości funkcji f na argumentach z obu list położonych na tych samych pozycjach, np. zipf ( +. ) [1.;2.;3.] [4.;5.;6.] = [5.;7.;9.].\n",
    "* Wykorzystując funkcję zipf napisz funkcję mult_vec, która oblicza iloczyn zadanego wektora i zadanej macierzy, np. mult_vec [1.;2.] [[2.;0.];[4.;5.]] = [10.;10.].\n",
    "* Korzystając z funkcji multvec napisz funkcję mnożenia dwóch macierzy kwadratowych tego samego rozmiaru.\n",
    "\n",
    "Uwaga: Wykorzystaj funkcje biblioteczne operujące na listach tak by Twoje rozwiązania były zwięzłe."
   ]
  },
  {
   "cell_type": "code",
   "execution_count": 83,
   "metadata": {},
   "outputs": [
    {
     "data": {
      "text/plain": [
       "val is_square : 'a list list -> bool = <fun>\n"
      ]
     },
     "execution_count": 83,
     "metadata": {},
     "output_type": "execute_result"
    },
    {
     "data": {
      "text/plain": [
       "val nth_column : int -> 'a list list -> 'a list = <fun>\n"
      ]
     },
     "execution_count": 83,
     "metadata": {},
     "output_type": "execute_result"
    },
    {
     "data": {
      "text/plain": [
       "val transpose : 'a list list -> 'a list list = <fun>\n"
      ]
     },
     "execution_count": 83,
     "metadata": {},
     "output_type": "execute_result"
    },
    {
     "data": {
      "text/plain": [
       "val transpose' : 'a list list -> 'a list list = <fun>\n"
      ]
     },
     "execution_count": 83,
     "metadata": {},
     "output_type": "execute_result"
    },
    {
     "data": {
      "text/plain": [
       "val zip : 'a list -> 'b list -> ('a * 'b) list = <fun>\n"
      ]
     },
     "execution_count": 83,
     "metadata": {},
     "output_type": "execute_result"
    },
    {
     "data": {
      "text/plain": [
       "val zipWith : ('a -> 'b -> 'c) -> 'a list -> 'b list -> 'c list = <fun>\n"
      ]
     },
     "execution_count": 83,
     "metadata": {},
     "output_type": "execute_result"
    },
    {
     "data": {
      "text/plain": [
       "val list_sum : int list -> int = <fun>\n"
      ]
     },
     "execution_count": 83,
     "metadata": {},
     "output_type": "execute_result"
    },
    {
     "data": {
      "text/plain": [
       "val mult_vec : int list -> int list list -> int list = <fun>\n"
      ]
     },
     "execution_count": 83,
     "metadata": {},
     "output_type": "execute_result"
    },
    {
     "data": {
      "text/plain": [
       "val mult_matrices : int list list -> int list list -> int list list = <fun>\n"
      ]
     },
     "execution_count": 83,
     "metadata": {},
     "output_type": "execute_result"
    }
   ],
   "source": [
    "let is_square m = \n",
    "    let n = List.length m in\n",
    "    let dims = List.map List.length m in\n",
    "    List.for_all ((==)n) dims\n",
    "\n",
    "let nth_column n m = List.fold_right (fun row acc -> List.nth row (n-1) :: acc) m []\n",
    "\n",
    "let transpose m = \n",
    "    let n = List.length m in\n",
    "    snd @@ List.fold_right (fun row acc -> (fst acc - 1 , nth_column (fst acc) m :: snd acc) ) m (n,[])\n",
    "    \n",
    "let transpose' m = \n",
    "    List.rev @@ snd @@ List.fold_left (fun acc row -> (fst acc+1 , nth_column (fst acc) m :: snd acc )) (1,[]) m\n",
    "    \n",
    "let zip l1 l2 = \n",
    "    let rec aux = function\n",
    "        | (x::xs,y::ys) -> (x,y) :: aux (xs,ys)\n",
    "        | (_,_)         -> []\n",
    "    in\n",
    "        aux (l1,l2)\n",
    "        \n",
    "let zipWith f l1 l2 = List.map (fun p -> f (fst p) (snd p) ) (zip l1 l2)\n",
    "\n",
    "\n",
    "let rec list_sum = function\n",
    "    | [] -> 0\n",
    "    | x::xs -> x + list_sum xs\n",
    "\n",
    "let mult_vec v m = List.map list_sum (List.map (zipWith (fun a b -> a * b) v ) @@ transpose m) \n",
    "\n",
    "let mult_matrices v1 v2 = List.fold_right (fun vect acc -> mult_vec vect v2 :: acc ) v1 []"
   ]
  },
  {
   "cell_type": "code",
   "execution_count": 86,
   "metadata": {},
   "outputs": [
    {
     "data": {
      "text/plain": [
       "- : bool = true\n"
      ]
     },
     "execution_count": 86,
     "metadata": {},
     "output_type": "execute_result"
    },
    {
     "data": {
      "text/plain": [
       "- : int list = [1; 4; 7]\n"
      ]
     },
     "execution_count": 86,
     "metadata": {},
     "output_type": "execute_result"
    },
    {
     "data": {
      "text/plain": [
       "- : int list list = [[1; 4; 7]; [2; 5; 8]; [3; 6; 9]]\n"
      ]
     },
     "execution_count": 86,
     "metadata": {},
     "output_type": "execute_result"
    },
    {
     "data": {
      "text/plain": [
       "- : int list list = [[1; 4; 7]; [2; 5; 8]; [3; 6; 9]]\n"
      ]
     },
     "execution_count": 86,
     "metadata": {},
     "output_type": "execute_result"
    },
    {
     "data": {
      "text/plain": [
       "- : (int * string) list = [(1, \"a\"); (2, \"b\"); (3, \"c\"); (4, \"d\")]\n"
      ]
     },
     "execution_count": 86,
     "metadata": {},
     "output_type": "execute_result"
    },
    {
     "data": {
      "text/plain": [
       "- : int list = [5; 5; 5; 5]\n"
      ]
     },
     "execution_count": 86,
     "metadata": {},
     "output_type": "execute_result"
    },
    {
     "data": {
      "text/plain": [
       "- : int list = [10; 10]\n"
      ]
     },
     "execution_count": 86,
     "metadata": {},
     "output_type": "execute_result"
    },
    {
     "data": {
      "text/plain": [
       "- : int list list = [[19; 22]; [43; 50]]\n"
      ]
     },
     "execution_count": 86,
     "metadata": {},
     "output_type": "execute_result"
    }
   ],
   "source": [
    "is_square [[1;2;3];[4;5;6];[7;8;9]];;\n",
    "nth_column 1 [[1;2;3];[4;5;6];[7;8;9]];;\n",
    "transpose [[1;2;3];[4;5;6];[7;8;9]];;\n",
    "transpose' [[1;2;3];[4;5;6];[7;8;9]];;\n",
    "\n",
    "zip [1;2;3;4] [\"a\";\"b\";\"c\";\"d\"];;\n",
    "zipWith (+) [1;2;3;4] [4;3;2;1];;\n",
    "\n",
    "mult_vec [1;2] [[2;0];[4;5]];;\n",
    "\n",
    "mult_matrices [[1;2];[3;4]] [[5;6];[7;8]];;"
   ]
  },
  {
   "cell_type": "markdown",
   "metadata": {},
   "source": [
    "## Zadanie 5\n",
    "Napisz funkcję, która dla zadanej permutacji elementów dowolnego typu 'a, na którym zdefiniowany jest pewien porządek liniowy, znajduje kolejną - w porządku leksykograficznym - permutację tych samych elementów, np. dla permutacji (1,2,4,3) funkcja powinna zwrócić permutację (1,3,2,4), a dla permutacji (a,c,b) wynikiem powinna być permutacja (b,a,c). W przypadku, w którym zadana permutacja jest największa, funkcja powinna zwracać permutację najmniejszą. Do reprezentowania permutacji użyj list, ale w porządku odwróconym, tj. w przykładzie powyżej funkcja dla argumentu [3;4;2;1] powinna dać odpowiedź [4;2;3;1], a dla ['b';'c';'a'] - odpowiedź ['c';'a';'b']. Wykorzystaj tę funkcję do napisania funkcji generującej wszystkie permutacje danej listy."
   ]
  },
  {
   "cell_type": "code",
   "execution_count": 2,
   "metadata": {},
   "outputs": [
    {
     "data": {
      "text/plain": [
       "val splitByAscendingPrefix : 'a list -> 'a list * 'a list = <fun>\n"
      ]
     },
     "execution_count": 2,
     "metadata": {},
     "output_type": "execute_result"
    },
    {
     "data": {
      "text/plain": [
       "val take : int -> 'a list -> 'a list = <fun>\n"
      ]
     },
     "execution_count": 2,
     "metadata": {},
     "output_type": "execute_result"
    },
    {
     "data": {
      "text/plain": [
       "val deleteGreater : 'a -> 'a list -> 'a list = <fun>\n"
      ]
     },
     "execution_count": 2,
     "metadata": {},
     "output_type": "execute_result"
    },
    {
     "data": {
      "text/plain": [
       "val findGreaterAndDelete : int -> int list -> int * int list = <fun>\n"
      ]
     },
     "execution_count": 2,
     "metadata": {},
     "output_type": "execute_result"
    },
    {
     "data": {
      "text/plain": [
       "val next_perm : int list -> int list = <fun>\n"
      ]
     },
     "execution_count": 2,
     "metadata": {},
     "output_type": "execute_result"
    }
   ],
   "source": [
    "(* https://www.nayuki.io/page/next-lexicographical-permutation-algorithm *)\n",
    "\n",
    "\n",
    "(* 0 1 2 5 3 3 0 *) (* 0 3 3 5 2 1 0 *)\n",
    "(* 0 1 3 0 2 3 5 *) (* 5 3 2 0 3 1 0 *)\n",
    "(* 1. znajdujemy najdluzszy sufiks malejacy *)\n",
    "(*    pivot to element przed tym sufiksem *)\n",
    "(* 2. wybieramy najmniejszy element sufiksu, wiekszy od pivota i zamieniamy go z pivotem *)\n",
    "(* 3. sortujemy ten sufiks *)\n",
    "\n",
    "(* slabo rosnacy *)\n",
    "let splitByAscendingPrefix = function\n",
    "    | []  -> ([],[])\n",
    "    | [x] -> ([x],[])\n",
    "    | l   -> let rec aux prev = function\n",
    "        | []    -> ([],[])\n",
    "        | y::ys -> let p = aux y ys in\n",
    "            if y >= prev\n",
    "            then (y :: fst p, snd p)\n",
    "            else ([], y::ys)\n",
    "        in\n",
    "            aux (List.hd l) l \n",
    "\n",
    "let take n l = \n",
    "    let rec aux = function\n",
    "        | (0,_)     -> []\n",
    "        | (_,[])    -> []\n",
    "        | (n,x::xs) -> x :: aux (n-1, xs)\n",
    "    in aux (n,l)\n",
    "    \n",
    "\n",
    "let deleteGreater el l = \n",
    "    let rec aux acc e = function\n",
    "        | []    -> []\n",
    "        | x::xs -> if x <= e then aux (x::acc) e xs else acc @ xs\n",
    "    in\n",
    "        aux [] el l\n",
    "    \n",
    "let findGreaterAndDelete el l = \n",
    "    let rec aux acc e = function\n",
    "        | []    -> (0,[])\n",
    "        | x::xs -> if x <= e then aux (x::acc) e xs else (x,acc @ xs)\n",
    "    in\n",
    "        aux [] el l\n",
    "\n",
    "let next_perm = function\n",
    "    | []  -> []\n",
    "    | [x] -> [x]\n",
    "    | l   -> \n",
    "        let splitted = splitByAscendingPrefix l in\n",
    "        let prefix = fst splitted and remainder = snd splitted in\n",
    "            if remainder == [] \n",
    "            then List.rev l\n",
    "            else\n",
    "                let pivot = List.hd remainder in\n",
    "                let p = findGreaterAndDelete pivot prefix in\n",
    "                let greater = fst p and prefix2 = pivot :: snd p in\n",
    "                let remainder2 = greater :: List.tl remainder in\n",
    "                let sortedPrefix2 = List.sort (fun a b -> - (compare a b)) prefix2 in\n",
    "                sortedPrefix2 @ remainder2\n",
    "                "
   ]
  },
  {
   "cell_type": "code",
   "execution_count": 3,
   "metadata": {},
   "outputs": [
    {
     "data": {
      "text/plain": [
       "- : int list = [4; 3; 2; 1]\n"
      ]
     },
     "execution_count": 3,
     "metadata": {},
     "output_type": "execute_result"
    }
   ],
   "source": [
    "next_perm [1;2;3;4]"
   ]
  },
  {
   "cell_type": "code",
   "execution_count": 4,
   "metadata": {},
   "outputs": [
    {
     "data": {
      "text/plain": [
       "val factorial : int -> int = <fun>\n"
      ]
     },
     "execution_count": 4,
     "metadata": {},
     "output_type": "execute_result"
    },
    {
     "data": {
      "text/plain": [
       "val permutations : int list -> int list list = <fun>\n"
      ]
     },
     "execution_count": 4,
     "metadata": {},
     "output_type": "execute_result"
    }
   ],
   "source": [
    "let factorial z =\n",
    "    let rec aux acc n = \n",
    "        if n == 0\n",
    "        then acc\n",
    "        else aux (acc*n) (n-1)\n",
    "    in aux 1 z\n",
    "\n",
    "let permutations l = \n",
    "    let z = factorial (List.length l) in\n",
    "    let rec aux acc n = if n == 1\n",
    "        then acc\n",
    "        else let gen = List.hd acc in\n",
    "            aux (next_perm gen :: acc) (n-1)\n",
    "    in aux [l] z"
   ]
  },
  {
   "cell_type": "code",
   "execution_count": 94,
   "metadata": {},
   "outputs": [
    {
     "data": {
      "text/plain": [
       "- : int list list =\n",
       "[[2; 1; 3]; [1; 3; 2]; [3; 1; 2]; [2; 3; 1]; [3; 2; 1]; [1; 2; 3]]\n"
      ]
     },
     "execution_count": 94,
     "metadata": {},
     "output_type": "execute_result"
    }
   ],
   "source": [
    "permutations [1;2;3]"
   ]
  },
  {
   "cell_type": "markdown",
   "metadata": {},
   "source": [
    "## Zadanie 6\n",
    "Pewnego razu powiedziano dwóm logikom P i S, że wybrano dwie liczby naturalne x i y takie, że 1 < x < y oraz x+y < 100. Co więcej, S otrzymał informację o wartości x+y, a P o wartości x*y. Po chwili P i S odbyli następującą rozmowę:\n",
    "\n",
    ">P: Nie potrafię powiedzieć jakie to liczby.\n",
    "\n",
    ">S: Wiedziałem o tym.\n",
    "\n",
    ">P: A to w takim razie już potrafię.\n",
    "\n",
    ">S: Ja już też.\n",
    "\n",
    "Napisz program, którego treścią będzie powyższy dialog, a wartością - liczby x i y."
   ]
  },
  {
   "cell_type": "markdown",
   "metadata": {},
   "source": [
    "P: Znaczy, że nie są to dwie liczby pierwsze"
   ]
  },
  {
   "cell_type": "code",
   "execution_count": null,
   "metadata": {
    "collapsed": true
   },
   "outputs": [],
   "source": []
  }
 ],
 "metadata": {
  "kernelspec": {
   "display_name": "OCaml system",
   "language": "OCaml",
   "name": "ocaml-jupyter"
  },
  "language_info": {
   "codemirror_mode": "text/x-ocaml",
   "file_extension": ".ml",
   "mimetype": "text/x-ocaml",
   "name": "OCaml",
   "nbconverter_exporter": null,
   "pygments_lexer": "OCaml",
   "version": "4.02.3"
  }
 },
 "nbformat": 4,
 "nbformat_minor": 2
}
