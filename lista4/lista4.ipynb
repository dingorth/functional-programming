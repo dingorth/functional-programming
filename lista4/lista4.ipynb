{
 "cells": [
  {
   "cell_type": "markdown",
   "metadata": {},
   "source": [
    "## Zadanie 1 (2 pkt.)\n",
    "\n",
    "Napisz funkcję rozstrzygającą czy dana lista jest palindromem, ale taką, która wykonuje co najwyżej ⌊n/2⌋ wywołań rekurencyjnych, gdzie n jest nieznaną długością listy (nie potrzeba i nie wolno jej liczyć). Funkcja nie powinna również alokować nowych list."
   ]
  },
  {
   "cell_type": "code",
   "execution_count": 25,
   "metadata": {},
   "outputs": [
    {
     "name": "stderr",
     "output_type": "stream",
     "text": [
      "File \"[25]\", line 2, characters 18-387:\n",
      "Warning 8: this pattern-matching is not exhaustive.\n",
      "Here is an example of a value that is not matched:\n",
      "([], _::_::_)\n"
     ]
    },
    {
     "data": {
      "text/plain": [
       "val is_palindrome : 'a list -> bool = <fun>\n"
      ]
     },
     "execution_count": 25,
     "metadata": {},
     "output_type": "execute_result"
    }
   ],
   "source": [
    "let is_palindrome l =\n",
    "    let rec aux = function\n",
    "        | (l,[]) -> (true,l)\n",
    "        | (l,[x]) -> (true, List.tl l)\n",
    "        | (x::xs, y::y'::ys) -> let p = aux (xs,ys) in\n",
    "            let isp = fst p and list = snd p in\n",
    "                if isp == false\n",
    "                then (false,[])\n",
    "                else if List.hd list == x \n",
    "                    then (true, List.tl list)\n",
    "                    else (false, [])\n",
    "    in\n",
    "        fst @@ aux (l,l)"
   ]
  },
  {
   "cell_type": "code",
   "execution_count": 27,
   "metadata": {},
   "outputs": [
    {
     "data": {
      "text/plain": [
       "- : bool = true\n"
      ]
     },
     "execution_count": 27,
     "metadata": {},
     "output_type": "execute_result"
    },
    {
     "data": {
      "text/plain": [
       "- : bool = true\n"
      ]
     },
     "execution_count": 27,
     "metadata": {},
     "output_type": "execute_result"
    },
    {
     "data": {
      "text/plain": [
       "- : bool = false\n"
      ]
     },
     "execution_count": 27,
     "metadata": {},
     "output_type": "execute_result"
    },
    {
     "data": {
      "text/plain": [
       "- : bool = true\n"
      ]
     },
     "execution_count": 27,
     "metadata": {},
     "output_type": "execute_result"
    },
    {
     "data": {
      "text/plain": [
       "- : bool = true\n"
      ]
     },
     "execution_count": 27,
     "metadata": {},
     "output_type": "execute_result"
    },
    {
     "data": {
      "text/plain": [
       "- : bool = false\n"
      ]
     },
     "execution_count": 27,
     "metadata": {},
     "output_type": "execute_result"
    }
   ],
   "source": [
    "is_palindrome [];;\n",
    "is_palindrome [1];;\n",
    "is_palindrome [1;2];;\n",
    "is_palindrome [1;1];;\n",
    "is_palindrome [1;2;1];;\n",
    "is_palindrome [1;2;2];;"
   ]
  },
  {
   "cell_type": "markdown",
   "metadata": {},
   "source": [
    "## Zadanie 2 (2 pkt.)\n",
    "\n",
    "Rozważmy typ danych dla drzew binarnych, zdefiniowany następująco:\n",
    "\n",
    "`type 'a btree = Leaf | Node of 'a btree * 'a * 'a btree`\n",
    "\n",
    "Mówimy, że drzewo jest zbalansowane, jeśli dla każdego węzła v liczby węzłów w lewym i prawym poddrzewie zakorzenionym w v różnią się co najwyżej o 1.\n",
    "\n",
    "1. Napisz efektywną funkcję sprawdzającą czy dane drzewo jest zbalansowane.\n",
    "2. Napisz funkcję, która dla zadanej listy etykiet tworzy zbalansowane drzewo, dla którego tę listę można otrzymać przechodząc je w porządku preorder."
   ]
  },
  {
   "cell_type": "code",
   "execution_count": 5,
   "metadata": {},
   "outputs": [
    {
     "data": {
      "text/plain": [
       "type 'a btree = Leaf | Node of 'a btree * 'a * 'a btree\n"
      ]
     },
     "execution_count": 5,
     "metadata": {},
     "output_type": "execute_result"
    },
    {
     "data": {
      "text/plain": [
       "val is_tree_balanced : 'a btree -> bool = <fun>\n"
      ]
     },
     "execution_count": 5,
     "metadata": {},
     "output_type": "execute_result"
    },
    {
     "data": {
      "text/plain": [
       "val tree_to_list_VLR : 'a btree -> 'a list = <fun>\n"
      ]
     },
     "execution_count": 5,
     "metadata": {},
     "output_type": "execute_result"
    },
    {
     "name": "stderr",
     "output_type": "stream",
     "text": [
      "File \"[5]\", line 17, characters 22-155:\n",
      "Warning 8: this pattern-matching is not exhaustive.\n",
      "Here is an example of a value that is not matched:\n",
      "([], _::_::_)\n"
     ]
    },
    {
     "data": {
      "text/plain": [
       "val halves : 'a list -> 'a list * 'a list = <fun>\n"
      ]
     },
     "execution_count": 5,
     "metadata": {},
     "output_type": "execute_result"
    },
    {
     "data": {
      "text/plain": [
       "val list_to_tree : 'a list -> 'a btree = <fun>\n"
      ]
     },
     "execution_count": 5,
     "metadata": {},
     "output_type": "execute_result"
    }
   ],
   "source": [
    "type 'a btree = Leaf | Node of 'a btree * 'a * 'a btree\n",
    "\n",
    "let is_tree_balanced t = \n",
    "    let rec aux = function\n",
    "        | Leaf        -> (true, 1)\n",
    "        | Node(l,_,r) -> let a = aux l and b = aux r in\n",
    "            if abs (snd a - snd b) > 1\n",
    "            then (false,  max (snd a) (snd b))\n",
    "            else (fst a && fst b, 1 + max (snd a) (snd b)) in\n",
    "    fst @@ aux t\n",
    "\n",
    "let rec tree_to_list_VLR = function \n",
    "    | Leaf -> []\n",
    "    | Node(left,e,right) -> e :: ( (tree_to_list_VLR left) @ (tree_to_list_VLR right) )\n",
    "\n",
    "let halves l = \n",
    "    let rec aux acc = function\n",
    "        | (r, []) -> (List.rev acc,r)\n",
    "        | (r, [_]) -> (List.rev acc,r)\n",
    "        | (a::r, _::_::q) -> aux (a::acc) (r,q)\n",
    "    in\n",
    "        aux [] (l,l)\n",
    "\n",
    "let rec list_to_tree = function\n",
    "    | [] -> Leaf\n",
    "    | [x] -> Node(Leaf,x,Leaf)\n",
    "    | x::xs -> let p = halves xs in\n",
    "        let left = fst p and right = snd p in\n",
    "        Node(list_to_tree left,x,list_to_tree right)"
   ]
  },
  {
   "cell_type": "code",
   "execution_count": 10,
   "metadata": {},
   "outputs": [
    {
     "data": {
      "text/plain": [
       "val testList : int list =\n",
       "  [1; 2; 3; 4; 5; 6; 7; 8; 9; 10; 11; 12; 13; 14; 15; 16; 17; 18; 19; 20; 21]\n"
      ]
     },
     "execution_count": 10,
     "metadata": {},
     "output_type": "execute_result"
    },
    {
     "data": {
      "text/plain": [
       "val tree : int btree =\n",
       "  Node\n",
       "   (Node\n",
       "     (Node (Node (Leaf, 4, Leaf), 3, Node (Leaf, 5, Node (Leaf, 6, Leaf))),\n",
       "     2,\n",
       "     Node (Node (Leaf, 8, Node (Leaf, 9, Leaf)), 7,\n",
       "      Node (Leaf, 10, Node (Leaf, 11, Leaf)))),\n",
       "   1,\n",
       "   Node\n",
       "    (Node (Node (Leaf, 14, Leaf), 13, Node (Leaf, 15, Node (Leaf, 16, Leaf))),\n",
       "    12,\n",
       "    Node (Node (Leaf, 18, Node (Leaf, 19, Leaf)), 17,\n",
       "     Node (Leaf, 20, Node (Leaf, 21, Leaf)))))\n"
      ]
     },
     "execution_count": 10,
     "metadata": {},
     "output_type": "execute_result"
    },
    {
     "data": {
      "text/plain": [
       "- : bool = true\n"
      ]
     },
     "execution_count": 10,
     "metadata": {},
     "output_type": "execute_result"
    },
    {
     "data": {
      "text/plain": [
       "- : int list =\n",
       "[1; 2; 3; 4; 5; 6; 7; 8; 9; 10; 11; 12; 13; 14; 15; 16; 17; 18; 19; 20; 21]\n"
      ]
     },
     "execution_count": 10,
     "metadata": {},
     "output_type": "execute_result"
    }
   ],
   "source": [
    "let testList = [1;2;3;4;5;6;7;8;9;10;11;12;13;14;15;16;17;18;19;20;21];;\n",
    "let tree = list_to_tree testList;;\n",
    "\n",
    "is_tree_balanced tree;;\n",
    "tree_to_list_VLR tree"
   ]
  },
  {
   "cell_type": "markdown",
   "metadata": {},
   "source": [
    "## Zadanie 3 (2 pkt.)\n",
    "\n",
    "Napisz możliwie efektywne funkcje przejścia wszerz oraz przejścia w głąb (preorder) dla obu reprezentacji drzew wielokierunkowych podanych na wykładzie (zadanie 5 z listy kontrolnej do wykładu 4)."
   ]
  },
  {
   "cell_type": "code",
   "execution_count": 12,
   "metadata": {},
   "outputs": [
    {
     "data": {
      "text/plain": [
       "type 'a mtree = MNode of 'a * 'a forest\n",
       "and 'a forest = EmptyForest | Forest of 'a mtree * 'a forest\n"
      ]
     },
     "execution_count": 12,
     "metadata": {},
     "output_type": "execute_result"
    },
    {
     "data": {
      "text/plain": [
       "type 'a mtree_lst = MTree of 'a * 'a mtree_lst list\n"
      ]
     },
     "execution_count": 12,
     "metadata": {},
     "output_type": "execute_result"
    }
   ],
   "source": [
    "type 'a mtree = MNode of 'a * 'a forest\n",
    "and 'a forest = EmptyForest | Forest of 'a mtree * 'a forest;;\n",
    "    \n",
    "type 'a mtree_lst = MTree of 'a * ('a mtree_lst) list;;"
   ]
  },
  {
   "cell_type": "code",
   "execution_count": 15,
   "metadata": {},
   "outputs": [
    {
     "data": {
      "text/plain": [
       "val preorder_MTree : 'a mtree_lst -> 'a list = <fun>\n"
      ]
     },
     "execution_count": 15,
     "metadata": {},
     "output_type": "execute_result"
    },
    {
     "data": {
      "text/plain": [
       "val fold_map_forest : ('a mtree -> 'b list) -> 'a forest -> 'b list = <fun>\n"
      ]
     },
     "execution_count": 15,
     "metadata": {},
     "output_type": "execute_result"
    },
    {
     "data": {
      "text/plain": [
       "val preorder_MNode : 'a mtree -> 'a list = <fun>\n"
      ]
     },
     "execution_count": 15,
     "metadata": {},
     "output_type": "execute_result"
    },
    {
     "data": {
      "text/plain": [
       "val bfs_MTree : 'a mtree_lst -> 'a list = <fun>\n"
      ]
     },
     "execution_count": 15,
     "metadata": {},
     "output_type": "execute_result"
    },
    {
     "data": {
      "text/plain": [
       "val bfs_MNode : 'a mtree -> 'a list = <fun>\n"
      ]
     },
     "execution_count": 15,
     "metadata": {},
     "output_type": "execute_result"
    }
   ],
   "source": [
    "let rec preorder_MTree = function\n",
    "    | MTree(v,l) -> v :: List.fold_left (fun acc t -> acc @ preorder_MTree t) [] l\n",
    "\n",
    "let rec fold_map_forest f = function\n",
    "    | EmptyForest -> []\n",
    "    | Forest(t,f') -> f t @ fold_map_forest f f'\n",
    "\n",
    "let rec preorder_MNode = function\n",
    "    | MNode(v,f) -> v :: fold_map_forest preorder_MNode f\n",
    "\n",
    "let bfs_MTree t =  \n",
    "    let rec aux = function\n",
    "        | [] -> []\n",
    "        | MTree(v,l) :: ls -> v :: aux (ls @ l) \n",
    "    in\n",
    "        aux [t]\n",
    "\n",
    "let bfs_MNode t =\n",
    "    let rec aux = function\n",
    "        | [] -> []\n",
    "        | MNode(v,f) :: ls -> v :: aux (ls @ fold_map_forest (fun a -> [a]) f)\n",
    "    in\n",
    "        aux [t]"
   ]
  },
  {
   "cell_type": "code",
   "execution_count": 16,
   "metadata": {},
   "outputs": [
    {
     "data": {
      "text/plain": [
       "val test_MTree : int mtree_lst =\n",
       "  MTree (1,\n",
       "   [MTree (2, [MTree (3, []); MTree (4, [])]); MTree (5, []); MTree (6, [])])\n"
      ]
     },
     "execution_count": 16,
     "metadata": {},
     "output_type": "execute_result"
    },
    {
     "data": {
      "text/plain": [
       "val test_MNode : int mtree =\n",
       "  MNode (1,\n",
       "   Forest\n",
       "    (MNode (2,\n",
       "      Forest (MNode (3, EmptyForest),\n",
       "       Forest (MNode (4, EmptyForest), EmptyForest))),\n",
       "    Forest (MNode (5, EmptyForest),\n",
       "     Forest (MNode (6, EmptyForest), EmptyForest))))\n"
      ]
     },
     "execution_count": 16,
     "metadata": {},
     "output_type": "execute_result"
    },
    {
     "data": {
      "text/plain": [
       "- : int list = [1; 2; 3; 4; 5; 6]\n"
      ]
     },
     "execution_count": 16,
     "metadata": {},
     "output_type": "execute_result"
    },
    {
     "data": {
      "text/plain": [
       "- : int list = [1; 2; 3; 4; 5; 6]\n"
      ]
     },
     "execution_count": 16,
     "metadata": {},
     "output_type": "execute_result"
    },
    {
     "data": {
      "text/plain": [
       "- : int list = [1; 2; 5; 6; 3; 4]\n"
      ]
     },
     "execution_count": 16,
     "metadata": {},
     "output_type": "execute_result"
    },
    {
     "data": {
      "text/plain": [
       "- : int list = [1; 2; 5; 6; 3; 4]\n"
      ]
     },
     "execution_count": 16,
     "metadata": {},
     "output_type": "execute_result"
    }
   ],
   "source": [
    "let test_MTree = MTree(1,[  MTree(2,[ MTree(3,[]) ; MTree(4,[])   ]) ; MTree(5,[]) ;MTree(6,[]) ]);;\n",
    "let test_MNode = \n",
    "MNode(1,Forest(MNode(2, Forest(MNode(3,EmptyForest),Forest(MNode(4,EmptyForest),EmptyForest))), Forest(MNode(5,EmptyForest), Forest(MNode(6,EmptyForest),EmptyForest) )  ));;\n",
    "\n",
    "preorder_MTree test_MTree;;\n",
    "preorder_MNode test_MNode;;\n",
    "bfs_MTree test_MTree;;\n",
    "bfs_MNode test_MNode;;"
   ]
  },
  {
   "cell_type": "markdown",
   "metadata": {},
   "source": [
    "## Zadanie 4 (6 pkt.)\n",
    "\n",
    "Zdefiniuj typ służący do reprezentacji formuł rachunku zdań składających się ze zmiennych zdaniowych, negacji, koniunkcji i alternatywy.\n",
    "\n",
    "1. Napisz funkcję sprawdzającą, czy dana formuła jest tautologią. W tym celu należy generować kolejne wartościowania zmiennych zdaniowych występujących w danej formule i sprawdzać dla nich wartość formuły. W przypadku, gdy formuła nie jest tautologią, funkcja powinna, oprócz tej informacji, podać jedno z wartościowań, dla których formuła nie jest prawdziwa.\n",
    "2. Napisz funkcję, która przekształca zadaną formułę w formułę jej równoważną w negacyjnej postaci normalnej, tj. w której negacja występuje tylko przy zmiennych zdaniowych.\n",
    "3. Napisz funkcję, która przekształca zadaną formułę w formułę jej równoważną w koniunkcyjnej postaci normalnej.\n",
    "4. Napisz funkcję sprawdzającą (syntaktycznie), czy zadana formuła jest tautologią, korzystając z faktu, że każdą formułę można przedstawić w koniunkcyjnej postaci normalnej.\n",
    "5. Napisz funkcję, która przekształca zadaną formułę w formułę jej równoważną w dyzjunkcyjnej postaci normalnej.\n",
    "6. Napisz funkcję sprawdzającą (syntaktycznie), czy zadana formuła jest sprzeczna, korzystając z faktu, że każdą formułę można przedstawić w dyzjunkcyjnej postaci normalnej."
   ]
  },
  {
   "cell_type": "code",
   "execution_count": 25,
   "metadata": {},
   "outputs": [
    {
     "data": {
      "text/plain": [
       "type 'a formula =\n",
       "    Var of 'a\n",
       "  | And of 'a formula * 'a formula\n",
       "  | Or of 'a formula * 'a formula\n",
       "  | Not of 'a formula\n"
      ]
     },
     "execution_count": 25,
     "metadata": {},
     "output_type": "execute_result"
    }
   ],
   "source": [
    "type 'a formula =    \n",
    "    | Var of 'a \n",
    "    | And of 'a formula * 'a formula \n",
    "    | Or of 'a formula * 'a formula \n",
    "    | Not of 'a formula"
   ]
  },
  {
   "cell_type": "code",
   "execution_count": 57,
   "metadata": {},
   "outputs": [
    {
     "data": {
      "text/plain": [
       "val formula1 : 'a -> 'a formula = <fun>\n"
      ]
     },
     "execution_count": 57,
     "metadata": {},
     "output_type": "execute_result"
    },
    {
     "data": {
      "text/plain": [
       "val formula2 : 'a -> 'a formula = <fun>\n"
      ]
     },
     "execution_count": 57,
     "metadata": {},
     "output_type": "execute_result"
    },
    {
     "data": {
      "text/plain": [
       "val tautology1 : 'a -> 'a formula = <fun>\n"
      ]
     },
     "execution_count": 57,
     "metadata": {},
     "output_type": "execute_result"
    },
    {
     "data": {
      "text/plain": [
       "val tautology2 : 'a -> 'a -> 'a formula = <fun>\n"
      ]
     },
     "execution_count": 57,
     "metadata": {},
     "output_type": "execute_result"
    },
    {
     "data": {
      "text/plain": [
       "val eval_formula : bool formula -> bool = <fun>\n"
      ]
     },
     "execution_count": 57,
     "metadata": {},
     "output_type": "execute_result"
    }
   ],
   "source": [
    "let formula1 p = Var(p);;\n",
    "let formula2 p = Not(Var(p));;\n",
    "let tautology1 p = Or(Var(p),Not(Var(p)))\n",
    "let tautology2 p q = Or(tautology1 p, Var(q))\n",
    "\n",
    "let rec eval_formula = function\n",
    "    | Var(true) -> true\n",
    "    | Var(false) -> false\n",
    "    | Not(p) -> not (eval_formula p)\n",
    "    | And(p,q) -> eval_formula p && eval_formula q\n",
    "    | Or(p,q) -> eval_formula p || eval_formula q\n",
    "\n"
   ]
  },
  {
   "cell_type": "code",
   "execution_count": 56,
   "metadata": {},
   "outputs": [
    {
     "ename": "error",
     "evalue": "error",
     "output_type": "error",
     "traceback": [
      "\u001b[31mFile \"[56]\", line 1, characters 16-32:\nError: This expression has type bool -> bool formula\n       but an expression was expected of type bool formula\n\u001b[0m"
     ]
    }
   ],
   "source": [
    "eval_formula @@ tautology2 false "
   ]
  },
  {
   "cell_type": "markdown",
   "metadata": {},
   "source": [
    "## Zadanie 5 (3 pkt.)\n",
    "\n",
    "Funkcja jest napisana w stylu przekazywania kontynuacji (continuation-passing style, CPS), jeżeli przyjmuje dodatkowy argument funkcyjny zwany kontynuacją, który reprezentuje całą resztę obliczeń jakie mają zostać przeprowadzone po powrocie z tej funkcji. W konsekwencji, funkcje w CPS-ie zwracają wynik wywołując swoją kontynuację, a wszystkie wywołania w programie w CPS-ie są ogonowe. Na przykład, funkcja licząca silnię napisana w CPS-ie wygląda następująco:\n",
    "\n",
    "`let rec fact_cps n k = if n = 0 then k 1 else fact_cps (n-1) (fun v -> k (n*v))`\n",
    "\n",
    "Kontynuacja początkowa przekazana funkcji factcps mówi co zrobić z wynikiem obliczenia silni zadanej liczby. Typowe wywołanie funkcji factcps dostaje identyczność jako kontynuację początkową (gdy silnia jest obliczona, wystarczy ją zwrócić):\n",
    "\n",
    "`let fact n = fact_cps n (fun v -> v)`\n",
    "\n",
    "Dla drzew binarnych z zadania 2, napisz funkcję `prod : int btree -> int`, która liczy iloczyn wszystkich wartości w drzewie. Zapisz tę funkcję w CPS-ie, a następnie zmodyfikuj otrzymaną funkcję tak by w przypadku napotkania wartości 0 funkcja wykonała bezpośredni skok do miejsca swego wywołania, bez krokowego powracania z rekursji."
   ]
  },
  {
   "cell_type": "code",
   "execution_count": null,
   "metadata": {
    "collapsed": true
   },
   "outputs": [],
   "source": []
  },
  {
   "cell_type": "markdown",
   "metadata": {},
   "source": [
    "## Zadanie 6 (5 pkt.)\n",
    "\n",
    "Gdy modyfikujemy strukturę danych, często chcemy wykonać więcej niż jedną operację w pobliskich miejscach. W przypadku czysto funkcyjnych struktur może to skutkować niepotrzebnie długim czasem wykonania, spowodowanym przechodzeniem i odtwarzaniem struktury danych przy każdej zmianie. Aby zapobiec temu problemowi, możemy rozbić operację modyfikacji struktury na dwie części: znajdowania miejsca w strukturze, w którym mamy wykonać zmianę, oraz przeprowadzenia zmiany w konkretnym miejscu; musimy też znaleźć odpowiednią pośrednią reprezentację dla takich miejsc.\n",
    "\n",
    "1. Zdefiniuj typ danych α place jako pośrednią reprezentację dla typu α list.\n",
    "2. Zaimplementuj funkcje findNth : α list -> int -> α place oraz collapse : α place -> α list. Pierwsza powinna lokalizować n-te miejsce na liście, druga — zapominać informację o miejscu i zwracać listę na której działamy.\n",
    "3. Zaimplementuj funkcje add : α -> α place -> α place oraz del : α place -> α place, odpowiednio dodającą i usuwającą element w odpowiednim miejscu listy. Funkcje powinny działać w czasie stałym, oraz spełniać następujące równości:\n",
    "\n",
    "`collapse (add 3 (findNth [1;2;4] 2)) = [1;2;3;4]\n",
    "collapse (del (findNth [1;2;4] 2)) = [1;2]\n",
    "del (add x p) = p dla dowolnych x : α i p : α place`\n",
    "\n",
    "4. Zaimplementuj funkcje next: α place -> α place oraz prev : α place -> α place, służące do nawigacji w strukturze listy. Te funkcje również powinny działać w czasie stałym.\n",
    "5. Listy nie są jedynym typem danych dla którego możemy definiować struktury pamiętające miejsce w którym pracujemy. Zdefiniuj typ danych α btplace będący pośrednią reprezentacją pozwalającą na modyfikacje drzew binarnych z Zadania 2 (nie musisz definiować na nim odpowiednich operacji)."
   ]
  },
  {
   "cell_type": "code",
   "execution_count": null,
   "metadata": {
    "collapsed": true
   },
   "outputs": [],
   "source": []
  }
 ],
 "metadata": {
  "kernelspec": {
   "display_name": "OCaml system",
   "language": "OCaml",
   "name": "ocaml-jupyter"
  },
  "language_info": {
   "codemirror_mode": "text/x-ocaml",
   "file_extension": ".ml",
   "mimetype": "text/x-ocaml",
   "name": "OCaml",
   "nbconverter_exporter": null,
   "pygments_lexer": "OCaml",
   "version": "4.02.3"
  }
 },
 "nbformat": 4,
 "nbformat_minor": 2
}
