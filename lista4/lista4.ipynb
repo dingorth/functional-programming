{
 "cells": [
  {
   "cell_type": "markdown",
   "metadata": {},
   "source": [
    "## Zadanie 1 (2 pkt.)\n",
    "\n",
    "Napisz funkcję rozstrzygającą czy dana lista jest palindromem, ale taką, która wykonuje co najwyżej ⌊n/2⌋ wywołań rekurencyjnych, gdzie n jest nieznaną długością listy (nie potrzeba i nie wolno jej liczyć). Funkcja nie powinna również alokować nowych list."
   ]
  },
  {
   "cell_type": "code",
   "execution_count": 6,
   "metadata": {},
   "outputs": [
    {
     "name": "stderr",
     "output_type": "stream",
     "text": [
      "File \"[6]\", line 2, characters 18-387:\n",
      "Warning 8: this pattern-matching is not exhaustive.\n",
      "Here is an example of a value that is not matched:\n"
     ]
    },
    {
     "data": {
      "text/plain": [
       "val is_palindrome : 'a list -> bool = <fun>\n"
      ]
     },
     "execution_count": 6,
     "metadata": {},
     "output_type": "execute_result"
    },
    {
     "name": "stderr",
     "output_type": "stream",
     "text": [
      "([], _::_::_)\n",
      "File \"[6]\", line 16, characters 18-339:\n",
      "Warning 8: this pattern-matching is not exhaustive.\n",
      "Here is an example of a value that is not matched:\n",
      "([], _::_::_)\n"
     ]
    },
    {
     "data": {
      "text/plain": [
       "val is_palindrome' : 'a list -> bool = <fun>\n"
      ]
     },
     "execution_count": 6,
     "metadata": {},
     "output_type": "execute_result"
    }
   ],
   "source": [
    "let is_palindrome l =\n",
    "    let rec aux = function\n",
    "        | (l,[]) -> (true,l)\n",
    "        | (l,[x]) -> (true, List.tl l)\n",
    "        | (x::xs, y::y'::ys) -> let p = aux (xs,ys) in\n",
    "            let isp = fst p and list = snd p in\n",
    "                if isp == false\n",
    "                then (false,[])\n",
    "                else if List.hd list == x \n",
    "                    then (true, List.tl list)\n",
    "                    else (false, [])\n",
    "    in\n",
    "        fst @@ aux (l,l)\n",
    "        \n",
    "let is_palindrome' l =\n",
    "    let rec aux = function\n",
    "        | (l',[]) -> (true,l')\n",
    "        | (l',[_]) -> (true, List.tl l')\n",
    "        | (x::xs, _::_::ys) -> \n",
    "            let p = aux (xs,ys) in\n",
    "            let isp = fst p and list = snd p in\n",
    "                if List.hd list == x && isp == true\n",
    "                then (true, List.tl list)\n",
    "                else (false,[])\n",
    "    in\n",
    "        fst @@ aux (l,l)\n",
    "            "
   ]
  },
  {
   "cell_type": "code",
   "execution_count": 7,
   "metadata": {},
   "outputs": [
    {
     "data": {
      "text/plain": [
       "- : bool = true\n"
      ]
     },
     "execution_count": 7,
     "metadata": {},
     "output_type": "execute_result"
    },
    {
     "data": {
      "text/plain": [
       "- : bool = true\n"
      ]
     },
     "execution_count": 7,
     "metadata": {},
     "output_type": "execute_result"
    },
    {
     "data": {
      "text/plain": [
       "- : bool = false\n"
      ]
     },
     "execution_count": 7,
     "metadata": {},
     "output_type": "execute_result"
    },
    {
     "data": {
      "text/plain": [
       "- : bool = true\n"
      ]
     },
     "execution_count": 7,
     "metadata": {},
     "output_type": "execute_result"
    },
    {
     "data": {
      "text/plain": [
       "- : bool = true\n"
      ]
     },
     "execution_count": 7,
     "metadata": {},
     "output_type": "execute_result"
    },
    {
     "data": {
      "text/plain": [
       "- : bool = false\n"
      ]
     },
     "execution_count": 7,
     "metadata": {},
     "output_type": "execute_result"
    }
   ],
   "source": [
    "is_palindrome' [];;\n",
    "is_palindrome' [1];;\n",
    "is_palindrome' [1;2];;\n",
    "is_palindrome' [1;1];;\n",
    "is_palindrome' [1;2;1];;\n",
    "is_palindrome' [1;2;2];;"
   ]
  },
  {
   "cell_type": "markdown",
   "metadata": {},
   "source": [
    "## Zadanie 2 (2 pkt.)\n",
    "\n",
    "Rozważmy typ danych dla drzew binarnych, zdefiniowany następująco:\n",
    "\n",
    "`type 'a btree = Leaf | Node of 'a btree * 'a * 'a btree`\n",
    "\n",
    "Mówimy, że drzewo jest zbalansowane, jeśli dla każdego węzła v liczby węzłów w lewym i prawym poddrzewie zakorzenionym w v różnią się co najwyżej o 1.\n",
    "\n",
    "1. Napisz efektywną funkcję sprawdzającą czy dane drzewo jest zbalansowane.\n",
    "2. Napisz funkcję, która dla zadanej listy etykiet tworzy zbalansowane drzewo, dla którego tę listę można otrzymać przechodząc je w porządku preorder."
   ]
  },
  {
   "cell_type": "code",
   "execution_count": 44,
   "metadata": {},
   "outputs": [
    {
     "data": {
      "text/plain": [
       "type 'a btree = Leaf | Node of 'a btree * 'a * 'a btree\n"
      ]
     },
     "execution_count": 44,
     "metadata": {},
     "output_type": "execute_result"
    },
    {
     "data": {
      "text/plain": [
       "val is_tree_balanced : 'a btree -> bool = <fun>\n"
      ]
     },
     "execution_count": 44,
     "metadata": {},
     "output_type": "execute_result"
    },
    {
     "data": {
      "text/plain": [
       "val tree_to_list_VLR : 'a btree -> 'a list = <fun>\n"
      ]
     },
     "execution_count": 44,
     "metadata": {},
     "output_type": "execute_result"
    },
    {
     "name": "stderr",
     "output_type": "stream",
     "text": [
      "File \"[44]\", line 17, characters 22-155:\n",
      "Warning 8: this pattern-matching is not exhaustive.\n",
      "Here is an example of a value that is not matched:\n",
      "([], _::_::_)\n"
     ]
    },
    {
     "data": {
      "text/plain": [
       "val halves : 'a list -> 'a list * 'a list = <fun>\n"
      ]
     },
     "execution_count": 44,
     "metadata": {},
     "output_type": "execute_result"
    },
    {
     "data": {
      "text/plain": [
       "val list_to_tree : 'a list -> 'a btree = <fun>\n"
      ]
     },
     "execution_count": 44,
     "metadata": {},
     "output_type": "execute_result"
    }
   ],
   "source": [
    "type 'a btree = Leaf | Node of 'a btree * 'a * 'a btree\n",
    "\n",
    "let is_tree_balanced t = \n",
    "    let rec aux = function\n",
    "        | Leaf        -> (true, 1)\n",
    "        | Node(l,_,r) -> let a = aux l and b = aux r in\n",
    "            if abs (snd a - snd b) > 1\n",
    "            then (false,  max (snd a) (snd b))\n",
    "            else (fst a && fst b, 1 + max (snd a) (snd b)) in\n",
    "    fst @@ aux t\n",
    "\n",
    "let rec tree_to_list_VLR = function \n",
    "    | Leaf -> []\n",
    "    | Node(left,e,right) -> e :: ( (tree_to_list_VLR left) @ (tree_to_list_VLR right) )\n",
    "\n",
    "let halves l = \n",
    "    let rec aux acc = function\n",
    "        | (r, []) -> (List.rev acc,r)\n",
    "        | (r, [_]) -> (List.rev acc,r)\n",
    "        | (a::r, _::_::q) -> aux (a::acc) (r,q)\n",
    "    in\n",
    "        aux [] (l,l)\n",
    "\n",
    "let rec list_to_tree = function\n",
    "    | [] -> Leaf\n",
    "    | [x] -> Node(Leaf,x,Leaf)\n",
    "    | x::xs -> let p = halves xs in\n",
    "        let left = fst p and right = snd p in\n",
    "        Node(list_to_tree left,x,list_to_tree right)"
   ]
  },
  {
   "cell_type": "code",
   "execution_count": 9,
   "metadata": {},
   "outputs": [
    {
     "data": {
      "text/plain": [
       "val testList : int list =\n",
       "  [1; 2; 3; 4; 5; 6; 7; 8; 9; 10; 11; 12; 13; 14; 15; 16; 17; 18; 19; 20; 21]\n"
      ]
     },
     "execution_count": 9,
     "metadata": {},
     "output_type": "execute_result"
    },
    {
     "data": {
      "text/plain": [
       "val tree : int btree =\n",
       "  Node\n",
       "   (Node\n",
       "     (Node (Node (Leaf, 4, Leaf), 3, Node (Leaf, 5, Node (Leaf, 6, Leaf))),\n",
       "     2,\n",
       "     Node (Node (Leaf, 8, Node (Leaf, 9, Leaf)), 7,\n",
       "      Node (Leaf, 10, Node (Leaf, 11, Leaf)))),\n",
       "   1,\n",
       "   Node\n",
       "    (Node (Node (Leaf, 14, Leaf), 13, Node (Leaf, 15, Node (Leaf, 16, Leaf))),\n",
       "    12,\n",
       "    Node (Node (Leaf, 18, Node (Leaf, 19, Leaf)), 17,\n",
       "     Node (Leaf, 20, Node (Leaf, 21, Leaf)))))\n"
      ]
     },
     "execution_count": 9,
     "metadata": {},
     "output_type": "execute_result"
    },
    {
     "data": {
      "text/plain": [
       "- : bool = true\n"
      ]
     },
     "execution_count": 9,
     "metadata": {},
     "output_type": "execute_result"
    },
    {
     "data": {
      "text/plain": [
       "- : int list =\n",
       "[1; 2; 3; 4; 5; 6; 7; 8; 9; 10; 11; 12; 13; 14; 15; 16; 17; 18; 19; 20; 21]\n"
      ]
     },
     "execution_count": 9,
     "metadata": {},
     "output_type": "execute_result"
    }
   ],
   "source": [
    "let testList = [1;2;3;4;5;6;7;8;9;10;11;12;13;14;15;16;17;18;19;20;21];;\n",
    "let tree = list_to_tree testList;;\n",
    "\n",
    "is_tree_balanced tree;;\n",
    "tree_to_list_VLR tree"
   ]
  },
  {
   "cell_type": "markdown",
   "metadata": {},
   "source": [
    "## Zadanie 3 (2 pkt.)\n",
    "\n",
    "Napisz możliwie efektywne funkcje przejścia wszerz oraz przejścia w głąb (preorder) dla obu reprezentacji drzew wielokierunkowych podanych na wykładzie (zadanie 5 z listy kontrolnej do wykładu 4)."
   ]
  },
  {
   "cell_type": "code",
   "execution_count": 10,
   "metadata": {},
   "outputs": [
    {
     "data": {
      "text/plain": [
       "type 'a mtree = MNode of 'a * 'a forest\n",
       "and 'a forest = EmptyForest | Forest of 'a mtree * 'a forest\n"
      ]
     },
     "execution_count": 10,
     "metadata": {},
     "output_type": "execute_result"
    },
    {
     "data": {
      "text/plain": [
       "type 'a mtree_lst = MTree of 'a * 'a mtree_lst list\n"
      ]
     },
     "execution_count": 10,
     "metadata": {},
     "output_type": "execute_result"
    }
   ],
   "source": [
    "type 'a mtree = MNode of 'a * 'a forest\n",
    "and 'a forest = EmptyForest | Forest of 'a mtree * 'a forest;;\n",
    "    \n",
    "type 'a mtree_lst = MTree of 'a * ('a mtree_lst) list;;"
   ]
  },
  {
   "cell_type": "code",
   "execution_count": 11,
   "metadata": {},
   "outputs": [
    {
     "data": {
      "text/plain": [
       "val preorder_MTree : 'a mtree_lst -> 'a list = <fun>\n"
      ]
     },
     "execution_count": 11,
     "metadata": {},
     "output_type": "execute_result"
    },
    {
     "data": {
      "text/plain": [
       "val fold_map_forest : ('a mtree -> 'b list) -> 'a forest -> 'b list = <fun>\n"
      ]
     },
     "execution_count": 11,
     "metadata": {},
     "output_type": "execute_result"
    },
    {
     "data": {
      "text/plain": [
       "val preorder_MNode : 'a mtree -> 'a list = <fun>\n"
      ]
     },
     "execution_count": 11,
     "metadata": {},
     "output_type": "execute_result"
    },
    {
     "data": {
      "text/plain": [
       "val bfs_MTree : 'a mtree_lst -> 'a list = <fun>\n"
      ]
     },
     "execution_count": 11,
     "metadata": {},
     "output_type": "execute_result"
    },
    {
     "data": {
      "text/plain": [
       "val bfs_MNode : 'a mtree -> 'a list = <fun>\n"
      ]
     },
     "execution_count": 11,
     "metadata": {},
     "output_type": "execute_result"
    }
   ],
   "source": [
    "let rec preorder_MTree = function\n",
    "    | MTree(v,l) -> v :: List.fold_left (fun acc t -> acc @ preorder_MTree t) [] l\n",
    "\n",
    "let rec fold_map_forest f = function\n",
    "    | EmptyForest -> []\n",
    "    | Forest(t,f') -> f t @ fold_map_forest f f'\n",
    "\n",
    "let rec preorder_MNode = function\n",
    "    | MNode(v,f) -> v :: fold_map_forest preorder_MNode f\n",
    "\n",
    "let bfs_MTree t =  \n",
    "    let rec aux = function\n",
    "        | [] -> []\n",
    "        | MTree(v,l) :: ls -> v :: aux (ls @ l) \n",
    "    in\n",
    "        aux [t]\n",
    "\n",
    "let bfs_MNode t =\n",
    "    let rec aux = function\n",
    "        | [] -> []\n",
    "        | MNode(v,f) :: ls -> v :: aux (ls @ fold_map_forest (fun a -> [a]) f)\n",
    "    in\n",
    "        aux [t]"
   ]
  },
  {
   "cell_type": "code",
   "execution_count": 12,
   "metadata": {},
   "outputs": [
    {
     "data": {
      "text/plain": [
       "val test_MTree : int mtree_lst =\n",
       "  MTree (1,\n",
       "   [MTree (2, [MTree (3, []); MTree (4, [])]); MTree (5, []); MTree (6, [])])\n"
      ]
     },
     "execution_count": 12,
     "metadata": {},
     "output_type": "execute_result"
    },
    {
     "data": {
      "text/plain": [
       "val test_MNode : int mtree =\n",
       "  MNode (1,\n",
       "   Forest\n",
       "    (MNode (2,\n",
       "      Forest (MNode (3, EmptyForest),\n",
       "       Forest (MNode (4, EmptyForest), EmptyForest))),\n",
       "    Forest (MNode (5, EmptyForest),\n",
       "     Forest (MNode (6, EmptyForest), EmptyForest))))\n"
      ]
     },
     "execution_count": 12,
     "metadata": {},
     "output_type": "execute_result"
    },
    {
     "data": {
      "text/plain": [
       "- : int list = [1; 2; 3; 4; 5; 6]\n"
      ]
     },
     "execution_count": 12,
     "metadata": {},
     "output_type": "execute_result"
    },
    {
     "data": {
      "text/plain": [
       "- : int list = [1; 2; 3; 4; 5; 6]\n"
      ]
     },
     "execution_count": 12,
     "metadata": {},
     "output_type": "execute_result"
    },
    {
     "data": {
      "text/plain": [
       "- : int list = [1; 2; 5; 6; 3; 4]\n"
      ]
     },
     "execution_count": 12,
     "metadata": {},
     "output_type": "execute_result"
    },
    {
     "data": {
      "text/plain": [
       "- : int list = [1; 2; 5; 6; 3; 4]\n"
      ]
     },
     "execution_count": 12,
     "metadata": {},
     "output_type": "execute_result"
    }
   ],
   "source": [
    "let test_MTree = MTree(1,[  MTree(2,[ MTree(3,[]) ; MTree(4,[])   ]) ; MTree(5,[]) ;MTree(6,[]) ]);;\n",
    "let test_MNode = \n",
    "MNode(1,Forest(MNode(2, Forest(MNode(3,EmptyForest),Forest(MNode(4,EmptyForest),EmptyForest))), Forest(MNode(5,EmptyForest), Forest(MNode(6,EmptyForest),EmptyForest) )  ));;\n",
    "\n",
    "preorder_MTree test_MTree;;\n",
    "preorder_MNode test_MNode;;\n",
    "bfs_MTree test_MTree;;\n",
    "bfs_MNode test_MNode;;"
   ]
  },
  {
   "cell_type": "markdown",
   "metadata": {},
   "source": [
    "## Zadanie 4 (6 pkt.)\n",
    "\n",
    "Zdefiniuj typ służący do reprezentacji formuł rachunku zdań składających się ze zmiennych zdaniowych, negacji, koniunkcji i alternatywy.\n",
    "\n",
    "1. Napisz funkcję sprawdzającą, czy dana formuła jest tautologią. W tym celu należy generować kolejne wartościowania zmiennych zdaniowych występujących w danej formule i sprawdzać dla nich wartość formuły. W przypadku, gdy formuła nie jest tautologią, funkcja powinna, oprócz tej informacji, podać jedno z wartościowań, dla których formuła nie jest prawdziwa.\n",
    "2. Napisz funkcję, która przekształca zadaną formułę w formułę jej równoważną w negacyjnej postaci normalnej, tj. w której negacja występuje tylko przy zmiennych zdaniowych.\n",
    "3. Napisz funkcję, która przekształca zadaną formułę w formułę jej równoważną w koniunkcyjnej postaci normalnej.\n",
    "4. Napisz funkcję sprawdzającą (syntaktycznie), czy zadana formuła jest tautologią, korzystając z faktu, że każdą formułę można przedstawić w koniunkcyjnej postaci normalnej.\n",
    "5. Napisz funkcję, która przekształca zadaną formułę w formułę jej równoważną w dyzjunkcyjnej postaci normalnej.\n",
    "6. Napisz funkcję sprawdzającą (syntaktycznie), czy zadana formuła jest sprzeczna, korzystając z faktu, że każdą formułę można przedstawić w dyzjunkcyjnej postaci normalnej."
   ]
  },
  {
   "cell_type": "code",
   "execution_count": 13,
   "metadata": {},
   "outputs": [
    {
     "data": {
      "text/plain": [
       "type 'a formula =\n",
       "    Var of 'a\n",
       "  | And of 'a formula * 'a formula\n",
       "  | Or of 'a formula * 'a formula\n",
       "  | Not of 'a formula\n"
      ]
     },
     "execution_count": 13,
     "metadata": {},
     "output_type": "execute_result"
    }
   ],
   "source": [
    "type 'a formula =    \n",
    "    | Var of 'a \n",
    "    | And of 'a formula * 'a formula \n",
    "    | Or of 'a formula * 'a formula \n",
    "    | Not of 'a formula"
   ]
  },
  {
   "cell_type": "code",
   "execution_count": 14,
   "metadata": {},
   "outputs": [
    {
     "data": {
      "text/plain": [
       "module SS :\n",
       "  sig\n",
       "    type elt = String.t\n",
       "    type t = Set.Make(String).t\n",
       "    val empty : t\n",
       "    val is_empty : t -> bool\n",
       "    val mem : elt -> t -> bool\n",
       "    val add : elt -> t -> t\n",
       "    val singleton : elt -> t\n",
       "    val remove : elt -> t -> t\n",
       "    val union : t -> t -> t\n",
       "    val inter : t -> t -> t\n",
       "    val diff : t -> t -> t\n",
       "    val compare : t -> t -> int\n",
       "    val equal : t -> t -> bool\n",
       "    val subset : t -> t -> bool\n",
       "    val iter : (elt -> unit) -> t -> unit\n",
       "    val fold : (elt -> 'a -> 'a) -> t -> 'a -> 'a\n",
       "    val for_all : (elt -> bool) -> t -> bool\n",
       "    val exists : (elt -> bool) -> t -> bool\n",
       "    val filter : (elt -> bool) -> t -> t\n",
       "    val partition : (elt -> bool) -> t -> t * t\n",
       "    val cardinal : t -> int\n",
       "    val elements : t -> elt list\n",
       "    val min_elt : t -> elt\n",
       "    val max_elt : t -> elt\n",
       "    val choose : t -> elt\n",
       "    val split : elt -> t -> t * bool * t\n",
       "    val find : elt -> t -> elt\n",
       "    val of_list : elt list -> t\n",
       "  end\n"
      ]
     },
     "execution_count": 14,
     "metadata": {},
     "output_type": "execute_result"
    }
   ],
   "source": [
    "module SS = Set.Make(String);;"
   ]
  },
  {
   "cell_type": "code",
   "execution_count": 15,
   "metadata": {},
   "outputs": [
    {
     "data": {
      "text/plain": [
       "val formula1 : string formula = Var \"p\"\n"
      ]
     },
     "execution_count": 15,
     "metadata": {},
     "output_type": "execute_result"
    },
    {
     "data": {
      "text/plain": [
       "val formula2 : string formula = Or (Not (Var \"m\"), Var \"m\")\n"
      ]
     },
     "execution_count": 15,
     "metadata": {},
     "output_type": "execute_result"
    },
    {
     "data": {
      "text/plain": [
       "val formula3 : string formula = And (Or (Var \"p\", Var \"q\"), Var \"r\")\n"
      ]
     },
     "execution_count": 15,
     "metadata": {},
     "output_type": "execute_result"
    },
    {
     "data": {
      "text/plain": [
       "val formula4 : string formula = Not (And (Var \"z\", Var \"m\"))\n"
      ]
     },
     "execution_count": 15,
     "metadata": {},
     "output_type": "execute_result"
    },
    {
     "data": {
      "text/plain": [
       "val formula5 : string formula =\n",
       "  And\n",
       "   (Or\n",
       "     (Not\n",
       "       (And (Not (And (Var \"z\", Var \"m\")),\n",
       "         And (Or (Var \"p\", Var \"q\"), Var \"r\"))),\n",
       "     Not\n",
       "      (And (Not (And (Var \"z\", Var \"m\")),\n",
       "        And (Or (Var \"p\", Var \"q\"), Var \"r\")))),\n",
       "   Not (Or (Not (Var \"m\"), Var \"m\")))\n"
      ]
     },
     "execution_count": 15,
     "metadata": {},
     "output_type": "execute_result"
    }
   ],
   "source": [
    "let formula1 = Var(\"p\");;\n",
    "let formula2 = Or(Not(Var(\"m\")),Var(\"m\"))\n",
    "let formula3 = And(Or(Var(\"p\"),Var(\"q\")),Var(\"r\"))\n",
    "let formula4 = Not(And(Var(\"z\"),Var(\"m\")))\n",
    "let formula5 = And(Or(Not(And(formula4,formula3)) , Not(And(formula4,formula3))) , Not(formula2) )"
   ]
  },
  {
   "cell_type": "code",
   "execution_count": 16,
   "metadata": {},
   "outputs": [
    {
     "data": {
      "text/plain": [
       "val eval_formula : ('a -> bool) -> 'a formula -> bool = <fun>\n"
      ]
     },
     "execution_count": 16,
     "metadata": {},
     "output_type": "execute_result"
    },
    {
     "data": {
      "text/plain": [
       "val get_variables : SS.elt formula -> SS.elt list = <fun>\n"
      ]
     },
     "execution_count": 16,
     "metadata": {},
     "output_type": "execute_result"
    },
    {
     "data": {
      "text/plain": [
       "val add_to_assoc : ('a * bool) list list -> 'a -> ('a * bool) list list =\n",
       "  <fun>\n"
      ]
     },
     "execution_count": 16,
     "metadata": {},
     "output_type": "execute_result"
    },
    {
     "data": {
      "text/plain": [
       "val get_all_evaluations : SS.elt formula -> (SS.elt * bool) list list = <fun>\n"
      ]
     },
     "execution_count": 16,
     "metadata": {},
     "output_type": "execute_result"
    },
    {
     "data": {
      "text/plain": [
       "val get_eval_function_from_assoc : ('a * 'b) list -> 'a -> 'b = <fun>\n"
      ]
     },
     "execution_count": 16,
     "metadata": {},
     "output_type": "execute_result"
    },
    {
     "data": {
      "text/plain": [
       "val is_tautology : SS.elt formula -> bool * (SS.elt * bool) list = <fun>\n"
      ]
     },
     "execution_count": 16,
     "metadata": {},
     "output_type": "execute_result"
    }
   ],
   "source": [
    "let rec eval_formula s = function\n",
    "    | Var(l) -> s l\n",
    "    | Not(f) -> not @@ eval_formula s f\n",
    "    | Or(l,r) -> eval_formula s l || eval_formula s r\n",
    "    | And(l,r) -> eval_formula s l && eval_formula s r\n",
    "\n",
    "let get_variables f = \n",
    "    let rec aux acc_set = function\n",
    "        | Var(p) -> SS.add p acc_set\n",
    "        | Not(f) -> aux acc_set f\n",
    "        | Or(l,r) -> SS.union (aux acc_set l) (aux acc_set r)\n",
    "        | And(l,r) -> SS.union (aux acc_set l) (aux acc_set r)\n",
    "    in\n",
    "        SS.elements @@ aux SS.empty f\n",
    "        \n",
    "let add_to_assoc assoc elem = \n",
    "    List.fold_left (fun acc l ->  ((elem,true)::l) :: ((elem,false)::l) :: acc ) [] assoc\n",
    "    \n",
    "let get_all_evaluations f =\n",
    "    let vars = get_variables f in\n",
    "    List.fold_left add_to_assoc [[]] vars\n",
    "    \n",
    "let get_eval_function_from_assoc assoc = (function k -> List.assoc k assoc)\n",
    "\n",
    "let is_tautology f = \n",
    "    let evals = get_all_evaluations f in\n",
    "    let filtered = List.filter \n",
    "        (fun a -> fst a == false) \n",
    "        (List.map (fun x -> (eval_formula (get_eval_function_from_assoc x) f),x) evals )\n",
    "    in\n",
    "        if filtered == []\n",
    "        then (true,[])\n",
    "        else (false, snd @@ List.hd filtered)\n"
   ]
  },
  {
   "cell_type": "code",
   "execution_count": 17,
   "metadata": {},
   "outputs": [
    {
     "data": {
      "text/plain": [
       "- : bool * (SS.elt * bool) list = (false, [(\"p\", false)])\n"
      ]
     },
     "execution_count": 17,
     "metadata": {},
     "output_type": "execute_result"
    },
    {
     "data": {
      "text/plain": [
       "- : bool * (SS.elt * bool) list = (true, [])\n"
      ]
     },
     "execution_count": 17,
     "metadata": {},
     "output_type": "execute_result"
    },
    {
     "data": {
      "text/plain": [
       "- : bool * (SS.elt * bool) list =\n",
       "(false, [(\"r\", false); (\"q\", false); (\"p\", true)])\n"
      ]
     },
     "execution_count": 17,
     "metadata": {},
     "output_type": "execute_result"
    },
    {
     "data": {
      "text/plain": [
       "- : bool * (SS.elt * bool) list = (false, [(\"z\", true); (\"m\", true)])\n"
      ]
     },
     "execution_count": 17,
     "metadata": {},
     "output_type": "execute_result"
    },
    {
     "data": {
      "text/plain": [
       "- : bool * (SS.elt * bool) list =\n",
       "(false, [(\"z\", true); (\"r\", false); (\"q\", true); (\"p\", false); (\"m\", true)])\n"
      ]
     },
     "execution_count": 17,
     "metadata": {},
     "output_type": "execute_result"
    }
   ],
   "source": [
    "is_tautology formula1;;\n",
    "is_tautology formula2;;\n",
    "is_tautology formula3;;\n",
    "is_tautology formula4;;\n",
    "is_tautology formula5;;"
   ]
  },
  {
   "cell_type": "code",
   "execution_count": 18,
   "metadata": {},
   "outputs": [
    {
     "data": {
      "text/plain": [
       "val negation_normal_form : 'a formula -> 'a formula = <fun>\n"
      ]
     },
     "execution_count": 18,
     "metadata": {},
     "output_type": "execute_result"
    },
    {
     "data": {
      "text/plain": [
       "val check_negation_normal_form : 'a formula -> bool = <fun>\n"
      ]
     },
     "execution_count": 18,
     "metadata": {},
     "output_type": "execute_result"
    }
   ],
   "source": [
    "let rec negation_normal_form = function\n",
    "    | Not(Not(f)) -> negation_normal_form f\n",
    "    | Not(Or(l,r)) -> And(negation_normal_form (Not(l)), negation_normal_form (Not(r)))\n",
    "    | Not(And(l,r)) -> Or(negation_normal_form (Not(l)), negation_normal_form (Not(r)) )\n",
    "    | Or(l,r) -> Or(negation_normal_form l, negation_normal_form r)\n",
    "    | And(l,r) -> And(negation_normal_form l, negation_normal_form r)\n",
    "    | Not(Var(p)) -> Not(Var(p))\n",
    "    | Var(p) -> Var(p)\n",
    "(* zamiast ostatnich 2 match'y mógłbym dać rest -> rest, ale w tym wypadku jest cos bedzie nie tak to bedzie \n",
    "error zamiast normalnego wykonania funkcji *)\n",
    "\n",
    "let rec check_negation_normal_form = function\n",
    "    | Not(Not(_)) -> false\n",
    "    | Not(Or(_,_)) -> false\n",
    "    | Not(And(_,_)) -> false\n",
    "    | Or(l,r) -> check_negation_normal_form l && check_negation_normal_form r\n",
    "    | And(l,r) -> check_negation_normal_form l && check_negation_normal_form r\n",
    "    | Not(Var(_)) -> true\n",
    "    | Var(_) -> true\n",
    "(* zamiast ostatnich 2 match'y mógłbym dać rest -> rest, ale w tym wypadku jest cos bedzie nie tak to bedzie \n",
    "error zamiast normalnego wykonania funkcji *)"
   ]
  },
  {
   "cell_type": "code",
   "execution_count": 19,
   "metadata": {},
   "outputs": [
    {
     "data": {
      "text/plain": [
       "- : bool = true\n"
      ]
     },
     "execution_count": 19,
     "metadata": {},
     "output_type": "execute_result"
    },
    {
     "data": {
      "text/plain": [
       "- : bool = true\n"
      ]
     },
     "execution_count": 19,
     "metadata": {},
     "output_type": "execute_result"
    },
    {
     "data": {
      "text/plain": [
       "- : bool = true\n"
      ]
     },
     "execution_count": 19,
     "metadata": {},
     "output_type": "execute_result"
    },
    {
     "data": {
      "text/plain": [
       "- : bool = true\n"
      ]
     },
     "execution_count": 19,
     "metadata": {},
     "output_type": "execute_result"
    }
   ],
   "source": [
    "check_negation_normal_form @@ negation_normal_form formula1;;\n",
    "check_negation_normal_form @@ negation_normal_form formula2;;\n",
    "check_negation_normal_form @@ negation_normal_form formula3;;\n",
    "check_negation_normal_form @@ negation_normal_form formula4;;"
   ]
  },
  {
   "cell_type": "code",
   "execution_count": 21,
   "metadata": {},
   "outputs": [
    {
     "data": {
      "text/plain": [
       "val to_cnf : 'a formula -> 'a formula = <fun>\n"
      ]
     },
     "execution_count": 21,
     "metadata": {},
     "output_type": "execute_result"
    }
   ],
   "source": [
    "let to_cnf f = \n",
    "    let nnf = negation_normal_form f in\n",
    "    let rec aux = function\n",
    "        | Or(p,And(q,r)) -> And( aux @@ Or(p,q), aux @@ Or(p,r))\n",
    "        | Or(And(p,q),r) -> And( aux @@ Or(p,r), aux @@ Or(q,r))\n",
    "        | And(p,q) -> And( aux p, aux q)\n",
    "        | rest -> rest\n",
    "    in\n",
    "        aux nnf\n",
    "        "
   ]
  },
  {
   "cell_type": "code",
   "execution_count": 22,
   "metadata": {},
   "outputs": [
    {
     "data": {
      "text/plain": [
       "- : string formula = Var \"p\"\n"
      ]
     },
     "execution_count": 22,
     "metadata": {},
     "output_type": "execute_result"
    },
    {
     "data": {
      "text/plain": [
       "- : string formula = Or (Not (Var \"m\"), Var \"m\")\n"
      ]
     },
     "execution_count": 22,
     "metadata": {},
     "output_type": "execute_result"
    },
    {
     "data": {
      "text/plain": [
       "- : string formula = And (Or (Var \"p\", Var \"q\"), Var \"r\")\n"
      ]
     },
     "execution_count": 22,
     "metadata": {},
     "output_type": "execute_result"
    },
    {
     "data": {
      "text/plain": [
       "- : string formula = Or (Not (Var \"z\"), Not (Var \"m\"))\n"
      ]
     },
     "execution_count": 22,
     "metadata": {},
     "output_type": "execute_result"
    },
    {
     "data": {
      "text/plain": [
       "- : string formula =\n",
       "And\n",
       " (Or\n",
       "   (Or (And (Var \"z\", Var \"m\"),\n",
       "     Or (And (Not (Var \"p\"), Not (Var \"q\")), Not (Var \"r\"))),\n",
       "   Or (And (Var \"z\", Var \"m\"),\n",
       "    Or (And (Not (Var \"p\"), Not (Var \"q\")), Not (Var \"r\")))),\n",
       " And (Var \"m\", Not (Var \"m\")))\n"
      ]
     },
     "execution_count": 22,
     "metadata": {},
     "output_type": "execute_result"
    }
   ],
   "source": [
    "to_cnf formula1;;\n",
    "to_cnf formula2;;\n",
    "to_cnf formula3;;\n",
    "to_cnf formula4;;\n",
    "to_cnf formula5;; (* chyba źle *)"
   ]
  },
  {
   "cell_type": "code",
   "execution_count": null,
   "metadata": {
    "collapsed": true
   },
   "outputs": [],
   "source": [
    "let add_to_set = \n",
    "    | Not(Var(p)) -> "
   ]
  },
  {
   "cell_type": "code",
   "execution_count": 129,
   "metadata": {},
   "outputs": [
    {
     "data": {
      "text/plain": [
       "val to_dnf : 'a formula -> 'a formula = <fun>\n"
      ]
     },
     "execution_count": 129,
     "metadata": {},
     "output_type": "execute_result"
    }
   ],
   "source": [
    "let to_dnf f = \n",
    "    let nnf = negate_normal_form f in\n",
    "    let rec aux = function\n",
    "        | x -> x\n",
    "    in\n",
    "        aux nnf"
   ]
  },
  {
   "cell_type": "code",
   "execution_count": null,
   "metadata": {
    "collapsed": true
   },
   "outputs": [],
   "source": []
  },
  {
   "cell_type": "markdown",
   "metadata": {},
   "source": [
    "## Zadanie 5 (3 pkt.)\n",
    "\n",
    "Funkcja jest napisana w stylu przekazywania kontynuacji (continuation-passing style, CPS), jeżeli przyjmuje dodatkowy argument funkcyjny zwany kontynuacją, który reprezentuje całą resztę obliczeń jakie mają zostać przeprowadzone po powrocie z tej funkcji. W konsekwencji, funkcje w CPS-ie zwracają wynik wywołując swoją kontynuację, a wszystkie wywołania w programie w CPS-ie są ogonowe. Na przykład, funkcja licząca silnię napisana w CPS-ie wygląda następująco:\n",
    "\n",
    "`let rec fact_cps n k = if n = 0 then k 1 else fact_cps (n-1) (fun v -> k (n*v))`\n",
    "\n",
    "Kontynuacja początkowa przekazana funkcji factcps mówi co zrobić z wynikiem obliczenia silni zadanej liczby. Typowe wywołanie funkcji factcps dostaje identyczność jako kontynuację początkową (gdy silnia jest obliczona, wystarczy ją zwrócić):\n",
    "\n",
    "`let fact n = fact_cps n (fun v -> v)`\n",
    "\n",
    "Dla drzew binarnych z zadania 2, napisz funkcję `prod : int btree -> int`, która liczy iloczyn wszystkich wartości w drzewie. Zapisz tę funkcję w CPS-ie, a następnie zmodyfikuj otrzymaną funkcję tak by w przypadku napotkania wartości 0 funkcja wykonała bezpośredni skok do miejsca swego wywołania, bez krokowego powracania z rekursji."
   ]
  },
  {
   "cell_type": "code",
   "execution_count": 54,
   "metadata": {},
   "outputs": [
    {
     "data": {
      "text/plain": [
       "val tree_prod : int btree -> int = <fun>\n"
      ]
     },
     "execution_count": 54,
     "metadata": {},
     "output_type": "execute_result"
    },
    {
     "data": {
      "text/plain": [
       "val tree_prod' : int btree -> int = <fun>\n"
      ]
     },
     "execution_count": 54,
     "metadata": {},
     "output_type": "execute_result"
    }
   ],
   "source": [
    "(* http://www.cs.cornell.edu/courses/cs3110/2013sp/supplemental/recitations/rec26-cps/rec26.html *)\n",
    "(* https://sidburn.github.io/blog/2016/05/07/cps-fold *)\n",
    "\n",
    "let tree_prod t = \n",
    "    let rec aux k = function\n",
    "        | Leaf -> k 1\n",
    "        | Node(l,e,r) -> aux (fun vl -> aux (fun vr -> k (vl*e*vr)) r ) l\n",
    "    in\n",
    "        aux (fun v -> v) t\n",
    "        \n",
    "(* chyba tak | jednak nie tak *)\n",
    "let tree_prod' t = \n",
    "    let rec aux k = function\n",
    "        | Leaf -> k 1\n",
    "        | Node(l,e,r) -> aux (fun vl -> \n",
    "            if vl <> 0\n",
    "            then aux (fun vr -> \n",
    "                if vr <> 0\n",
    "                then k (vl*e*vr)\n",
    "                else 0) r \n",
    "            else 0) l\n",
    "    in\n",
    "        aux (fun v -> if v == 0 then 0 else v) t"
   ]
  },
  {
   "cell_type": "code",
   "execution_count": 96,
   "metadata": {},
   "outputs": [
    {
     "data": {
      "text/plain": [
       "val threes : int list = [3; <cycle>]\n"
      ]
     },
     "execution_count": 96,
     "metadata": {},
     "output_type": "execute_result"
    },
    {
     "data": {
      "text/plain": [
       "val take : int -> 'a list -> 'a list = <fun>\n"
      ]
     },
     "execution_count": 96,
     "metadata": {},
     "output_type": "execute_result"
    },
    {
     "data": {
      "text/plain": [
       "val gen_test_list : int -> int list = <fun>\n"
      ]
     },
     "execution_count": 96,
     "metadata": {},
     "output_type": "execute_result"
    },
    {
     "data": {
      "text/plain": [
       "val test_list : int list =\n",
       "  [0; 1; 3; 1; 3; 1; 3; 1; 3; 2; 1; 3; 2; 3; 1; 3; 1; 3; 2; 3; 1; 2; 1; 3; 3;\n",
       "   3; 3; 3; 2; 2; 2; 1; 1; 2; 2; 3; 2; 1; 1; 1; 1; 3; 2; 2; 3; 2; 3; 3; 3; 1;\n",
       "   2; 2; 2; 2; 3; 3; 3; 3; 1; 2; 2; 2; 1; 2; 2; 2; 3; 2; 3; 1; 1; 1; 1; 2; 1;\n",
       "   2; 3; 3; 2; 2; 2; 3; 3; 1; 2; 1; 2; 3; 2; 2; 3; 2; 2; 3; 1; 2; 1; 1; 2; 3;\n",
       "   2; 1; 2; 1; 1; 1; 2; 1; 1; 2; 2; 3; 1; 2; 3; 2; 2; 1; 3; 3; 1; 1; 2; 1; 3;\n",
       "   3; 2; 2; 3; 1; 3; 3; 3; 2; 2; 2; 1; 1; 2; 2; 2; 3; 3; 3; 1; 2; 2; 3; 2; 3;\n",
       "   3; 3; 3; 3; 1; 1; 1; 3; 1; 2; 1; 1; 2; 1; 2; 1; 3; 2; 1; 3; 2; 3; 1; 1; 3;\n",
       "   3; 3; 1; 3; 3; 1; 2; 3; 1; 3; 1; 1; 3; 2; 1; 3; 1; 3; 1; 1; 2; 3; 3; 1; 2;\n",
       "   2; 2; 3; 3; 3; 3; 3; 3; 2; 1; 2; 3; 2; 2; 1; 1; 1; 1; 2; 2; 1; 1; 1; 2; 1;\n",
       "   2; 3; 2; 3; 2; 2; 1; 3; 2; 3; 2; 3; 1; 3; 3; 3; 1; 3; 2; 2; 2; 2; 3; 1; 2;\n",
       "   3; 1; 3; 3; 1; 3; 2; 1; 1; 2; 1; 2; 1; 1; 1; 1; 3; 3; 2; 1; 2; 1; 2; 3; 2;\n",
       "   2; 1; 2; 2; 1; 1; 2; 3; 3; 1; 2; 2; 1; 1; 1; 1; 1; 2; 2; 1; 2; 1; 2; 2;\n",
       "   ...]\n"
      ]
     },
     "execution_count": 96,
     "metadata": {},
     "output_type": "execute_result"
    },
    {
     "data": {
      "text/plain": [
       "val test_tree : int btree =\n",
       "  Node\n",
       "   (Node\n",
       "     (Node\n",
       "       (Node\n",
       "         (Node\n",
       "           (Node\n",
       "             (Node\n",
       "               (Node\n",
       "                 (Node\n",
       "                   (Node\n",
       "                     (Node\n",
       "                       (Node\n",
       "                         (Node\n",
       "                           (Node\n",
       "                             (Node (Node (Leaf, 3, Node (Leaf, 1, Leaf)), 1,\n",
       "                               Node (Leaf, 3, Node (Leaf, 2, Leaf))),\n",
       "                             3,\n",
       "                             Node (Node (Leaf, 1, Node (Leaf, 2, Leaf)), 3,\n",
       "                              Node (Leaf, 1, Node (Leaf, 3, Leaf)))),\n",
       "                           2,\n",
       "                           Node\n",
       "                            (Node (Node (Leaf, 3, Node (Leaf, 3, Leaf)), 3,\n",
       "                              Node (Leaf, 2, Node (Leaf, 2, Leaf))),\n",
       "                            3,\n",
       "                            Node (Node (Leaf, 1, Node (Leaf, 1, Leaf)), 2,\n",
       "                             Node (Leaf, 2, Node (Leaf, 2, Leaf))))),\n",
       "                         3,\n",
       "                         Node\n",
       "                          (Node\n",
       "                            (Node (Node (Leaf, 1, Node (Leaf, 1, Leaf)), 1,\n",
       "                              Node (Leaf, 1, Node (Leaf, 3, Leaf))),\n",
       "                            2,\n",
       "                            Node (Node (Leaf, 2, Node (Leaf, 3, Leaf)), 2,\n",
       "                             Node (Leaf, 2, Node (Leaf, 3, Leaf)))),\n",
       "                          3,\n",
       "                          Node\n",
       "                           (Node (Node (Leaf, 1, Node (Leaf, 2, Leaf)), 3,\n",
       "                             Node (Leaf, 2, Node (Leaf, 2, Leaf))),\n",
       "                           3,\n",
       "                           Node (Node (Leaf, 3, Node (Leaf, 3, Leaf)), 2,\n",
       "                            Node (Leaf, 3, Node (Leaf, 3, Leaf)))))),\n",
       "                       1,\n",
       "                       Node\n",
       "                        (Node\n",
       "                          (Node\n",
       "                            (Node (Node (Leaf, 1, Node (Leaf, 2, Leaf)), 2,\n",
       "                              Node (Leaf, 2, Node (Leaf, 2, Leaf))),\n",
       "                            2,\n",
       "                            Node (Node (Leaf, 2, Node (Leaf, 3, Leaf)), 3,\n",
       "                             Node (Leaf, 1, Node (Leaf, 1, Leaf)))),\n",
       "                          2,\n",
       "                          Node\n",
       "                           (Node (Node (Leaf, 2, Node (Leaf, 1, Leaf)), 1,\n",
       "                             Node (Leaf, 2, Node (Leaf, 3, Leaf))),\n",
       "                           1,\n",
       "                           Node (Node (Leaf, 2, Node (Leaf, 2, Leaf)), 3,\n",
       "                            Node (Leaf, 2, Node (Leaf, 3, Leaf))))),\n",
       "                        1,\n",
       "                        Node\n",
       "                         (Node\n",
       "                           (Node (Node (Leaf, 1, Node (Leaf, 2, Leaf)), 2,\n",
       "                             Node (Leaf, 3, Node (Leaf, 2, Leaf))),\n",
       "                           1,\n",
       "                           Node (Node (Leaf, 3, Node (Leaf, 2, Leaf)), 2,\n",
       "                            Node (Leaf, 2, Node (Leaf, 3, Leaf)))),\n",
       "                         3,\n",
       "                         Node\n",
       "                          (Node (Node (Leaf, 1, Node (Leaf, 1, Leaf)), 2,\n",
       "                            Node (Leaf, 2, Node (Leaf, 3, Leaf))),\n",
       "                          1,\n",
       "                          Node (Node (Leaf, 1, Node (Leaf, 2, Leaf)), 2,\n",
       "                           Node (Node (Leaf, 1, Leaf), 1,\n",
       "                            Node (Leaf, 1, Leaf))))))),\n",
       "                     2, ...),\n",
       "                   ...),\n",
       "                 ...),\n",
       "               ...),\n",
       "             ...),\n",
       "           ...),\n",
       "         ...),\n",
       "       ...),\n",
       "     ...),\n",
       "   ...)\n"
      ]
     },
     "execution_count": 96,
     "metadata": {},
     "output_type": "execute_result"
    },
    {
     "data": {
      "text/plain": [
       "val test_list2 : int list = [1; 2; 3; 4; 5; 6; 7; 8; 9; 10]\n"
      ]
     },
     "execution_count": 96,
     "metadata": {},
     "output_type": "execute_result"
    },
    {
     "data": {
      "text/plain": [
       "val test_tree2 : int btree =\n",
       "  Node (Node (Node (Leaf, 3, Leaf), 2, Node (Leaf, 4, Node (Leaf, 5, Leaf))),\n",
       "   1,\n",
       "   Node (Node (Leaf, 7, Node (Leaf, 8, Leaf)), 6,\n",
       "    Node (Leaf, 9, Node (Leaf, 10, Leaf))))\n"
      ]
     },
     "execution_count": 96,
     "metadata": {},
     "output_type": "execute_result"
    }
   ],
   "source": [
    "let rec threes = 3::threes;;\n",
    "\n",
    "let rec take k xs = match k with\n",
    "    | 0 -> []\n",
    "    | k -> match xs with\n",
    "           | [] -> failwith \"take\"\n",
    "           | y::ys -> y :: (take (k - 1) ys);;\n",
    "\n",
    "let gen_test_list length = (fun l -> List.map (fun x -> (Random.int x) + 1) @@ take l threes) length;;\n",
    "let test_list = 0 :: gen_test_list 100000;;\n",
    "let test_tree = list_to_tree test_list;;\n",
    "let test_list2 = [1;2;3;4;5;6;7;8;9;10];;\n",
    "let test_tree2 = list_to_tree test_list2;;"
   ]
  },
  {
   "cell_type": "code",
   "execution_count": 97,
   "metadata": {},
   "outputs": [
    {
     "data": {
      "text/plain": [
       "- : bool = true\n"
      ]
     },
     "execution_count": 97,
     "metadata": {},
     "output_type": "execute_result"
    },
    {
     "data": {
      "text/plain": [
       "- : int = 3628800\n"
      ]
     },
     "execution_count": 97,
     "metadata": {},
     "output_type": "execute_result"
    },
    {
     "data": {
      "text/plain": [
       "- : int = 3628800\n"
      ]
     },
     "execution_count": 97,
     "metadata": {},
     "output_type": "execute_result"
    }
   ],
   "source": [
    "is_tree_balanced test_tree;;\n",
    "tree_prod test_tree2;;\n",
    "tree_prod' test_tree2;;"
   ]
  },
  {
   "cell_type": "code",
   "execution_count": 99,
   "metadata": {},
   "outputs": [
    {
     "data": {
      "text/plain": [
       "- : int = 0\n"
      ]
     },
     "execution_count": 99,
     "metadata": {},
     "output_type": "execute_result"
    }
   ],
   "source": [
    "tree_prod test_tree;;"
   ]
  },
  {
   "cell_type": "code",
   "execution_count": 100,
   "metadata": {},
   "outputs": [
    {
     "data": {
      "text/plain": [
       "- : int = 0\n"
      ]
     },
     "execution_count": 100,
     "metadata": {},
     "output_type": "execute_result"
    }
   ],
   "source": [
    "tree_prod' test_tree;;"
   ]
  },
  {
   "cell_type": "markdown",
   "metadata": {},
   "source": [
    "## Zadanie 6 (5 pkt.)\n",
    "\n",
    "Gdy modyfikujemy strukturę danych, często chcemy wykonać więcej niż jedną operację w pobliskich miejscach. W przypadku czysto funkcyjnych struktur może to skutkować niepotrzebnie długim czasem wykonania, spowodowanym przechodzeniem i odtwarzaniem struktury danych przy każdej zmianie. Aby zapobiec temu problemowi, możemy rozbić operację modyfikacji struktury na dwie części: znajdowania miejsca w strukturze, w którym mamy wykonać zmianę, oraz przeprowadzenia zmiany w konkretnym miejscu; musimy też znaleźć odpowiednią pośrednią reprezentację dla takich miejsc.\n",
    "\n",
    "1. Zdefiniuj typ danych α place jako pośrednią reprezentację dla typu α list.\n",
    "2. Zaimplementuj funkcje findNth : α list -> int -> α place oraz collapse : α place -> α list. Pierwsza powinna lokalizować n-te miejsce na liście, druga — zapominać informację o miejscu i zwracać listę na której działamy.\n",
    "3. Zaimplementuj funkcje add : α -> α place -> α place oraz del : α place -> α place, odpowiednio dodającą i usuwającą element w odpowiednim miejscu listy. Funkcje powinny działać w czasie stałym, oraz spełniać następujące równości:\n",
    "\n",
    "`collapse (add 3 (findNth [1;2;4] 2)) = [1;2;3;4]\n",
    "collapse (del (findNth [1;2;4] 2)) = [1;2]\n",
    "del (add x p) = p dla dowolnych x : α i p : α place`\n",
    "\n",
    "4. Zaimplementuj funkcje next: α place -> α place oraz prev : α place -> α place, służące do nawigacji w strukturze listy. Te funkcje również powinny działać w czasie stałym.\n",
    "5. Listy nie są jedynym typem danych dla którego możemy definiować struktury pamiętające miejsce w którym pracujemy. Zdefiniuj typ danych α btplace będący pośrednią reprezentacją pozwalającą na modyfikacje drzew binarnych z Zadania 2 (nie musisz definiować na nim odpowiednich operacji)."
   ]
  },
  {
   "cell_type": "code",
   "execution_count": 35,
   "metadata": {},
   "outputs": [
    {
     "data": {
      "text/plain": [
       "val empty_list : ('a list -> 'b) -> 'b = <fun>\n"
      ]
     },
     "execution_count": 35,
     "metadata": {},
     "output_type": "execute_result"
    },
    {
     "data": {
      "text/plain": [
       "val sl : (int list -> int list) -> int list = <fun>\n"
      ]
     },
     "execution_count": 35,
     "metadata": {},
     "output_type": "execute_result"
    },
    {
     "data": {
      "text/plain": [
       "val list : int list = [1; 2; 3; 4; 5; 6]\n"
      ]
     },
     "execution_count": 35,
     "metadata": {},
     "output_type": "execute_result"
    },
    {
     "data": {
      "text/plain": [
       "val sl2 : (int list -> int list) -> int list = <fun>\n"
      ]
     },
     "execution_count": 35,
     "metadata": {},
     "output_type": "execute_result"
    },
    {
     "data": {
      "text/plain": [
       "val list2 : int list = [1; 2; 3; 5; 6]\n"
      ]
     },
     "execution_count": 35,
     "metadata": {},
     "output_type": "execute_result"
    },
    {
     "data": {
      "text/plain": [
       "val sl3 : (int list -> int list) -> int list = <fun>\n"
      ]
     },
     "execution_count": 35,
     "metadata": {},
     "output_type": "execute_result"
    },
    {
     "data": {
      "text/plain": [
       "val list3 : int list = [1; 2; 3; 0; 5; 6]\n"
      ]
     },
     "execution_count": 35,
     "metadata": {},
     "output_type": "execute_result"
    }
   ],
   "source": [
    "(* https://caml.inria.fr/pub/docs/oreilly-book/html/book-ora016.html *)\n",
    "\n",
    "(* empty list *)\n",
    "let empty_list = (fun p -> p []);;\n",
    "\n",
    "(* represents [1;2;3;4;5;6] list *)\n",
    "let sl = (fun p -> 1::2::3::(p [4;5;6]) );;\n",
    "\n",
    "(* getting that list *)\n",
    "let list = sl (fun v -> v);;\n",
    "\n",
    "(* deleting single element from remembered position *)\n",
    "(* this representation ofter deleting *)\n",
    "let sl2 np = sl (fun list -> np (List.tl list));;\n",
    "\n",
    "(* getting that modified list *)\n",
    "let list2 = sl2 (fun v -> v);;\n",
    "\n",
    "(* adding new element 0 to remembered place *)\n",
    "let sl3 np = sl2 (fun list -> np (0::list));;\n",
    "\n",
    "(* getting that modigied list *)\n",
    "let list3 = sl3 (fun v-> v);;"
   ]
  },
  {
   "cell_type": "code",
   "execution_count": 37,
   "metadata": {},
   "outputs": [
    {
     "data": {
      "text/plain": [
       "type 'a place = Place of (('a list -> 'a list) -> 'a list)\n"
      ]
     },
     "execution_count": 37,
     "metadata": {},
     "output_type": "execute_result"
    },
    {
     "data": {
      "text/plain": [
       "val collapse : 'a place -> 'a list = <fun>\n"
      ]
     },
     "execution_count": 37,
     "metadata": {},
     "output_type": "execute_result"
    },
    {
     "data": {
      "text/plain": [
       "val del : int place -> int place = <fun>\n"
      ]
     },
     "execution_count": 37,
     "metadata": {},
     "output_type": "execute_result"
    },
    {
     "data": {
      "text/plain": [
       "val add : 'a -> 'a place -> 'a place = <fun>\n"
      ]
     },
     "execution_count": 37,
     "metadata": {},
     "output_type": "execute_result"
    },
    {
     "data": {
      "text/plain": [
       "val next : 'a place -> 'a place = <fun>\n"
      ]
     },
     "execution_count": 37,
     "metadata": {},
     "output_type": "execute_result"
    }
   ],
   "source": [
    "type 'a place = Place of (('a list -> 'a list) -> 'a list)\n",
    "\n",
    "let collapse = function\n",
    "    | Place(f) -> f (fun v -> v)\n",
    "    \n",
    "let del = function\n",
    "    | Place(f) -> Place( (fun np ->  f (fun l -> np (List.tl list))     ))\n",
    "    \n",
    "let add e = function\n",
    "    | Place(f) -> Place( (fun np ->  f (fun l -> np (e::l))              ))\n",
    "    \n",
    "let next = function\n",
    "    | Place(f) -> Place( (fun np ->  f (fun l -> List.hd l :: np (List.tl l))              ))\n",
    "    "
   ]
  },
  {
   "cell_type": "code",
   "execution_count": 34,
   "metadata": {},
   "outputs": [
    {
     "data": {
      "text/plain": [
       "val list_empty : 'a place = Place <fun>\n"
      ]
     },
     "execution_count": 34,
     "metadata": {},
     "output_type": "execute_result"
    },
    {
     "data": {
      "text/plain": [
       "- : int list = [2; 1]\n"
      ]
     },
     "execution_count": 34,
     "metadata": {},
     "output_type": "execute_result"
    }
   ],
   "source": [
    "let list_empty = Place((fun p -> p []));;\n",
    "\n",
    "collapse @@ add 2 @@ add 1 list_empty"
   ]
  }
 ],
 "metadata": {
  "kernelspec": {
   "display_name": "OCaml system",
   "language": "OCaml",
   "name": "ocaml-jupyter"
  },
  "language_info": {
   "codemirror_mode": "text/x-ocaml",
   "file_extension": ".ml",
   "mimetype": "text/x-ocaml",
   "name": "OCaml",
   "nbconverter_exporter": null,
   "pygments_lexer": "OCaml",
   "version": "4.02.3"
  }
 },
 "nbformat": 4,
 "nbformat_minor": 2
}
