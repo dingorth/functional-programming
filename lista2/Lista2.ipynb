{
 "cells": [
  {
   "cell_type": "markdown",
   "metadata": {},
   "source": [
    "# Lista 2\n",
    "\n",
    "### Uwaga: poniższe zadania należy rozwiązać bez użycia funkcji bibliotecznych z modułu List."
   ]
  },
  {
   "cell_type": "code",
   "execution_count": 1,
   "metadata": {
    "collapsed": true
   },
   "outputs": [
    {
     "data": {
      "text/plain": [
       "val randomListsLength : int = 7000\n"
      ]
     },
     "execution_count": 1,
     "metadata": {},
     "output_type": "execute_result"
    },
    {
     "data": {
      "text/plain": [
       "val randomList : int -> int list = <fun>\n"
      ]
     },
     "execution_count": 1,
     "metadata": {},
     "output_type": "execute_result"
    },
    {
     "data": {
      "text/plain": [
       "val sortedList1 : int list =\n",
       "  [133; 187; 405; 569; 664; 688; 724; 768; 949; 996; 1104; 1137; 1147; 1157;\n",
       "   1429; 1430; 1481; 1650; 1813; 1922; 2210; 2277; 2455; 2706; 2784; 2847;\n",
       "   3098; 3158; 3202; 3232; 3479; 3565; 3576; 3793; 3851; 3892; 4111; 4232;\n",
       "   4318; 4438; 4526; 4529; 4540; 4730; 5054; 5057; 5178; 5316; 5642; 5790;\n",
       "   5866; 5880; 6007; 6041; 6280; 6465; 6500; 6529; 6571; 6598; 6634; 6681;\n",
       "   7344; 7510; 7536; 7609; 7890; 7929; 8208; 8290; 8327; 8328; 8404; 8794;\n",
       "   8955; 9086; 9145; 9193; 9242; 9346; 9465; 9558; 10084; 10114; 10244;\n",
       "   10290; 10295; 10317; 10811; 10855; 10890; 11195; 11461; 11884; 12122;\n",
       "   12514; 12539; 12633; 12783; 13095; 13311; 13347; 13853; 13914; 13924;\n",
       "   13979; 14000; 14212; 14420; 14474; 14790; 14792; 14938; 15094; 15184;\n",
       "   15492; 15704; 15777; 16005; 16355; 16381; 16398; 16444; 16874; 16961;\n",
       "   17300; 17302; 17343; 17353; 17377; 17463; 17486; 17956; 18186; 18195;\n",
       "   18280; 18411; 18488; 18606; 18959; 19320; 19476; 19821; 20282; 20365;\n",
       "   20497; 20573; 20731; 20789; 20951; 21010; 21013; 21537; 21563; 21613;\n",
       "   21775; 21819; 21961; 21971; 21996; 22053; 22140; 22200; 22563; 22827;\n",
       "   22908; 23145; 23287; 23326; 24040; 24095; 24148; 24235; 24424; 24518;\n",
       "   24650; 24839; 24996; 25159; 25405; 25509; 25529; 25573; 25658; 25754;\n",
       "   25769; 25850; 25851; 25868; 25885; 26431; 26910; 27099; 27110; 27154;\n",
       "   27264; 27352; 28025; 28077; 28118; 28170; 28277; 28361; 28435; 28490;\n",
       "   28503; 28524; 28584; 28739; 28874; 28921; 29323; 29348; 29365; 29616;\n",
       "   29689; 29861; 30011; 30164; 30273; 30522; 30524; 30772; 30775; 30948;\n",
       "   30956; 31317; 31357; 31681; 31797; 31932; 32101; 32165; 32216; 32591;\n",
       "   32683; 32725; 33046; 33728; 33746; 33780; 33914; 34133; 34261; 34392;\n",
       "   34474; 34802; 34938; 35000; 35219; 35648; 35736; 35806; 35848; 36116;\n",
       "   36152; 36191; 36337; 36687; 36834; 37192; 37194; 37219; 37271; 37496;\n",
       "   37631; 37678; 38112; 38339; 38460; 38567; 38651; 38748; 38763; 38863;\n",
       "   38961; 39318; 39403; 39408; 39712; 39813; 39837; 40082; 40808; 40901;\n",
       "   41027; 41407; 41478; 41599; 41638; 41656; 41776; 41964; 41989; 42052;\n",
       "   42096; 42158; 42174; 42427; ...]\n"
      ]
     },
     "execution_count": 1,
     "metadata": {},
     "output_type": "execute_result"
    },
    {
     "data": {
      "text/plain": [
       "val sortedList2 : int list =\n",
       "  [97; 111; 119; 352; 443; 447; 450; 468; 586; 787; 971; 1128; 1129; 1135;\n",
       "   1274; 1294; 1400; 1596; 1776; 1866; 1891; 1955; 1995; 2027; 2280; 2518;\n",
       "   2672; 2859; 3134; 3168; 3269; 3388; 3408; 3471; 3734; 4290; 4359; 4475;\n",
       "   4555; 4573; 4675; 4751; 4853; 4879; 4976; 5343; 5895; 5963; 6114; 6249;\n",
       "   6259; 6348; 6377; 6537; 6834; 6914; 7002; 7002; 7094; 7140; 7178; 7293;\n",
       "   7456; 7677; 7800; 7806; 7830; 7896; 8067; 8129; 8204; 8292; 8302; 8384;\n",
       "   8820; 8824; 8976; 9134; 9225; 9383; 9457; 9464; 9466; 9640; 9757; 10052;\n",
       "   10097; 10290; 10334; 10365; 10514; 10580; 10833; 10916; 10938; 11027;\n",
       "   11334; 11574; 11816; 11850; 12010; 12075; 12247; 12333; 12360; 12737;\n",
       "   12894; 12972; 12987; 13048; 13330; 13537; 13652; 13762; 13799; 13935;\n",
       "   13991; 14032; 14167; 14424; 14553; 14736; 14807; 15123; 15498; 15575;\n",
       "   15626; 15721; 15835; 15867; 15868; 16098; 16418; 16466; 16602; 16680;\n",
       "   16937; 17056; 17092; 17220; 17401; 17470; 17597; 17664; 18018; 18201;\n",
       "   18242; 18347; 18546; 18809; 18849; 18854; 18873; 18923; 19058; 19117;\n",
       "   19162; 19538; 19632; 20025; 20301; 20638; 20662; 20701; 20766; 20793;\n",
       "   20890; 21016; 21046; 21146; 21281; 21373; 21383; 21482; 21547; 21863;\n",
       "   21865; 21893; 21973; 22120; 22141; 22182; 22186; 22274; 22698; 22794;\n",
       "   23181; 23224; 23361; 23401; 23404; 23660; 23929; 24201; 24274; 24331;\n",
       "   24367; 24902; 25309; 25469; 25483; 25584; 25606; 25632; 26053; 26203;\n",
       "   26326; 26636; 27021; 27076; 27086; 27319; 27323; 28124; 28134; 28418;\n",
       "   28456; 28522; 28635; 28828; 28942; 28950; 29016; 29113; 29127; 29202;\n",
       "   29376; 29550; 29671; 29753; 30003; 30441; 30463; 30485; 30897; 31146;\n",
       "   31180; 31446; 31665; 31667; 31697; 32107; 32349; 32368; 32682; 32717;\n",
       "   32736; 32827; 32854; 32977; 33001; 33418; 33464; 33509; 33808; 33883;\n",
       "   33905; 34018; 34309; 34649; 34749; 34823; 34962; 34980; 35115; 35310;\n",
       "   35502; 35627; 35821; 35824; 35831; 36015; 36079; 36136; 36145; 36364;\n",
       "   36389; 36403; 36878; 37042; 37087; 37459; 37806; 37944; 38177; 38211;\n",
       "   38249; 38705; 39003; 39065; 39105; 39454; 39595; 39762; 39800; 39803;\n",
       "   39900; 40091; 40122; ...]\n"
      ]
     },
     "execution_count": 1,
     "metadata": {},
     "output_type": "execute_result"
    },
    {
     "data": {
      "text/plain": [
       "val randomList1 : int list =\n",
       "  [226420; 704637; 825290; 258806; 2142; 346303; 397394; 352056; 603253;\n",
       "   770983; 302052; 771289; 945823; 254773; 892475; 980570; 803757; 721820;\n",
       "   947119; 331410; 237610; 582708; 627218; 497355; 29981; 404140; 505344;\n",
       "   161751; 638975; 59311; 724474; 898020; 497792; 390898; 70756; 87205;\n",
       "   957088; 378526; 454694; 161269; 934844; 328476; 840855; 476360; 679965;\n",
       "   909066; 281268; 278430; 549198; 739967; 997509; 906744; 315161; 729527;\n",
       "   479290; 328400; 206837; 176220; 188049; 656741; 131013; 760699; 897361;\n",
       "   183838; 577956; 715418; 672286; 211277; 316612; 983410; 441145; 525317;\n",
       "   914434; 948970; 333896; 330853; 267533; 639517; 18069; 701581; 197301;\n",
       "   70971; 973705; 724051; 670139; 705579; 659; 55793; 812958; 97157; 414917;\n",
       "   745810; 803715; 471295; 720124; 409531; 414047; 891885; 142487; 349113;\n",
       "   641529; 641752; 2196; 847640; 542657; 668371; 674878; 332952; 59377;\n",
       "   515523; 327741; 892881; 105069; 832728; 241850; 385195; 698798; 167877;\n",
       "   463743; 168427; 301367; 780394; 68788; 967505; 83687; 799406; 264957;\n",
       "   808633; 406310; 407353; 655969; 676397; 321973; 244357; 373840; 46249;\n",
       "   965890; 882794; 224022; 26760; 748579; 574598; 333863; 644542; 795788;\n",
       "   376348; 418817; 578028; 129429; 662558; 886369; 347252; 227414; 735125;\n",
       "   434947; 706944; 61621; 757833; 473809; 238213; 702492; 533889; 108941;\n",
       "   774460; 508782; 494944; 300853; 460522; 36957; 865484; 708211; 862613;\n",
       "   38458; 801196; 23880; 695961; 552990; 75465; 274385; 376757; 479584;\n",
       "   507122; 76657; 909936; 446659; 863921; 567465; 547514; 735582; 620728;\n",
       "   487225; 505374; 845831; 100374; 60362; 885961; 277969; 532659; 620669;\n",
       "   841659; 565155; 343345; 45444; 494522; 924776; 379254; 12443; 317478;\n",
       "   30302; 571032; 139477; 514089; 764086; 853064; 750979; 197112; 688049;\n",
       "   750373; 455911; 622818; 958805; 768213; 581687; 195307; 42172; 364882;\n",
       "   558982; 285776; 618258; 386458; 683519; 235505; 45154; 703340; 237296;\n",
       "   965488; 484853; 223585; 158956; 249564; 175878; 558930; 833437; 112766;\n",
       "   403757; 460850; 665516; 650525; 58204; 695479; 68812; 992204; 656240;\n",
       "   234209; 158138; 329633; 40016; 342098; 257216; 959287; 894417; 788842;\n",
       "   900324; 522583; 395158; 322383; 680655; 651298; 449304; 31944; 273431;\n",
       "   37533; 692165; 760438; 295809; 966596; 111968; 347470; 37171; 712537;\n",
       "   66706; 216888; 28566; 658973; 233873; 636484; 76998; 264415; 308166;\n",
       "   914917; 284834; 575389; 774284; 868844; 717977; 880181; 866759; 73007;\n",
       "   558774; ...]\n"
      ]
     },
     "execution_count": 1,
     "metadata": {},
     "output_type": "execute_result"
    }
   ],
   "source": [
    "let randomListsLength = 7000\n",
    "let rec randomList n = if n == 0 then [] else Random.int 1000000 :: randomList (n-1)\n",
    "let sortedList1 = List.sort compare (randomList randomListsLength)\n",
    "let sortedList2 = List.sort compare (randomList randomListsLength) \n",
    "let randomList1 = randomList randomListsLength"
   ]
  },
  {
   "cell_type": "markdown",
   "metadata": {},
   "source": [
    "## Zadanie 1\n",
    "\n",
    "Napisz funkcję znajdującą wszystkie podlisty (rozumiane jako podciągi, niekoniecznie kolejnych elementów) listy zadanej jako argument. Zadbaj o to by Twoja funkcja nie generowała nieużytków."
   ]
  },
  {
   "cell_type": "code",
   "execution_count": 3,
   "metadata": {},
   "outputs": [
    {
     "data": {
      "text/plain": [
       "val sublists : 'a list -> 'a list list = <fun>\n"
      ]
     },
     "execution_count": 3,
     "metadata": {},
     "output_type": "execute_result"
    },
    {
     "data": {
      "text/plain": [
       "val sublists2 : 'a list -> 'a list list = <fun>\n"
      ]
     },
     "execution_count": 3,
     "metadata": {},
     "output_type": "execute_result"
    }
   ],
   "source": [
    "let rec sublists = function\n",
    "    | []    -> [[]]\n",
    "    | x::xs -> let rec foo = function\n",
    "        | []      -> []\n",
    "        | ys::yss -> (x::ys) :: (foo yss)\n",
    "            in let sub = sublists xs in\n",
    "                sub @ (foo sub)\n",
    "\n",
    "(* lepiej. brak konkatynacji *)\n",
    "let rec sublists2 = function\n",
    "    | []    -> [[]]\n",
    "    | x::xs -> let rec foo = function\n",
    "        | []      -> []\n",
    "        | ys::yss -> (x::ys) :: ys :: (foo yss)\n",
    "        in foo (sublists2 xs)"
   ]
  },
  {
   "cell_type": "code",
   "execution_count": 4,
   "metadata": {},
   "outputs": [
    {
     "data": {
      "text/plain": [
       "- : int list list = [[1; 2; 3]; [2; 3]; [1; 3]; [3]; [1; 2]; [2]; [1]; []]\n"
      ]
     },
     "execution_count": 4,
     "metadata": {},
     "output_type": "execute_result"
    }
   ],
   "source": [
    "sublists2 [1;2;3]"
   ]
  },
  {
   "cell_type": "markdown",
   "metadata": {},
   "source": [
    "## Zadanie 2\n",
    "\n",
    "Napisz dwie wersje funkcji (w tym jedną za pomoca rekursji ogonowej), która oblicza n-ty wyraz ciągu zdefiniowanego wzorem:\n",
    "\n",
    "$$ a_{0} = 0 $$\n",
    "$$ a_{n} = 2 * a_{n-1} + 1 $$"
   ]
  },
  {
   "cell_type": "code",
   "execution_count": 5,
   "metadata": {},
   "outputs": [
    {
     "data": {
      "text/plain": [
       "val normalRec : int -> int = <fun>\n"
      ]
     },
     "execution_count": 5,
     "metadata": {},
     "output_type": "execute_result"
    },
    {
     "data": {
      "text/plain": [
       "val tailRec : ?acc:int -> int -> int = <fun>\n"
      ]
     },
     "execution_count": 5,
     "metadata": {},
     "output_type": "execute_result"
    }
   ],
   "source": [
    "let rec normalRec = function\n",
    "    | 0 -> 0\n",
    "    | n -> 2 * (normalRec (n-1)) +1\n",
    "    \n",
    "let rec tailRec ?(acc=0) = function\n",
    "    | 0 -> acc\n",
    "    | n -> tailRec ~acc:(2 * acc + 1) (n-1)"
   ]
  },
  {
   "cell_type": "code",
   "execution_count": 6,
   "metadata": {},
   "outputs": [
    {
     "ename": "error",
     "evalue": "error",
     "output_type": "error",
     "traceback": [
      "\u001b[31mStack overflow during evaluation (looping recursion?).\n\u001b[0m"
     ]
    }
   ],
   "source": [
    "normalRec 1000000 (* Stack overflow *)"
   ]
  },
  {
   "cell_type": "code",
   "execution_count": 7,
   "metadata": {},
   "outputs": [
    {
     "data": {
      "text/plain": [
       "- : int = -1\n"
      ]
     },
     "execution_count": 7,
     "metadata": {},
     "output_type": "execute_result"
    }
   ],
   "source": [
    "tailRec 10000000 (* działa jak iteracja *)"
   ]
  },
  {
   "cell_type": "markdown",
   "metadata": {},
   "source": [
    "## Zadanie 3\n",
    "\n",
    "Zdefiniuj funkcję cycle : 'a list -> int -> 'a list, która w cykliczny sposób przesuwa listę o zadaną liczbę pozycji n, przy czym zakładamy, że długość listy jest nie mniejsza niż n. Np. cycle [1;2;3;4] 3 = [2;3;4;1]."
   ]
  },
  {
   "cell_type": "code",
   "execution_count": 30,
   "metadata": {},
   "outputs": [
    {
     "data": {
      "text/plain": [
       "val concatLen : int -> 'a list -> 'a list -> 'a list * int = <fun>\n"
      ]
     },
     "execution_count": 30,
     "metadata": {},
     "output_type": "execute_result"
    },
    {
     "data": {
      "text/plain": [
       "val dropFirst : int -> 'a list -> 'a list = <fun>\n"
      ]
     },
     "execution_count": 30,
     "metadata": {},
     "output_type": "execute_result"
    },
    {
     "data": {
      "text/plain": [
       "val take : int -> 'a list -> 'a list = <fun>\n"
      ]
     },
     "execution_count": 30,
     "metadata": {},
     "output_type": "execute_result"
    },
    {
     "data": {
      "text/plain": [
       "val cycle : 'a list -> int -> 'a list = <fun>\n"
      ]
     },
     "execution_count": 30,
     "metadata": {},
     "output_type": "execute_result"
    }
   ],
   "source": [
    "let rec concatLen acc l = function\n",
    "    | []    -> (l,acc)\n",
    "    | x::xs -> let t = concatLen (acc + 1) l xs in\n",
    "        (x :: fst t, snd t + 1)\n",
    "\n",
    "let rec dropFirst n l = \n",
    "    if n == 0 \n",
    "    then l\n",
    "    else match l with\n",
    "        | x::xs -> dropFirst (n-1) xs\n",
    "        | []    -> []\n",
    "        \n",
    "let rec take n l =\n",
    "    if n == 0\n",
    "    then []\n",
    "    else match l with\n",
    "        | [] -> []\n",
    "        | x::xs  -> x :: take (n-1) xs\n",
    "\n",
    "let rec cycle l n = \n",
    "    let t = concatLen 0 l l in\n",
    "    let len = snd t / 2 and con = fst t in\n",
    "    let shift = len - n in\n",
    "        take len (dropFirst shift con)"
   ]
  },
  {
   "cell_type": "code",
   "execution_count": 38,
   "metadata": {},
   "outputs": [
    {
     "data": {
      "text/plain": [
       "- : int list * int = ([1; 2; 1; 2], 4)\n"
      ]
     },
     "execution_count": 38,
     "metadata": {},
     "output_type": "execute_result"
    },
    {
     "data": {
      "text/plain": [
       "- : int list = [6; 7]\n"
      ]
     },
     "execution_count": 38,
     "metadata": {},
     "output_type": "execute_result"
    },
    {
     "data": {
      "text/plain": [
       "- : int list = [1; 2]\n"
      ]
     },
     "execution_count": 38,
     "metadata": {},
     "output_type": "execute_result"
    },
    {
     "data": {
      "text/plain": [
       "- : int list = [2; 3; 4; 1]\n"
      ]
     },
     "execution_count": 38,
     "metadata": {},
     "output_type": "execute_result"
    }
   ],
   "source": [
    "concatLen 0 [1;2] [1;2];;\n",
    "dropFirst 5 [1;2;3;4;5;6;7];;\n",
    "take 2 [1;2;3;4];;\n",
    "cycle [1;2;3;4] 3"
   ]
  },
  {
   "cell_type": "markdown",
   "metadata": {},
   "source": [
    "## Zadanie 4\n",
    "\n",
    "1. Napisz funkcję merge, która łączy dwie listy posortowane rosnąco w pewnym porządku ≤ tak, by wynik działania funkcji był także listą posortowaną rosnąco w tym samym porządku. Argumentami funkcji merge powinny być: funkcja cmp : 'a -> 'a -> bool (zakładamy, że cmp a b = true wtw a ≤ b) i dwie listy elementów typu 'a. Przykład: merge (<=) [1;2;5] [3;4;5] utworzy listę [1;2;3;4;5;5].\n",
    "2. Zapisz tę funkcję używając rekursji ogonowej, a następnie porównaj działanie obu funkcji na odpowiednich przykładach.\n",
    "3. Wykorzystaj funkcję merge w wersji ogonowej do napisania funkcji sortowania przez scalanie.\n",
    "Zaproponuj alternatywną implementację algorytmu sortowania przez scalanie, w której funkcja merge jest ogonowa, ale nie wykonuje odwracania list. Nie przejmuj się, jeżeli otrzymasz algorytm sortowania, który nie jest stabilny. Porównaj szybkość działania tej implementacji z tą z punktu 3."
   ]
  },
  {
   "cell_type": "code",
   "execution_count": 22,
   "metadata": {},
   "outputs": [
    {
     "data": {
      "text/plain": [
       "val merge : ('a -> 'a -> bool) -> 'a list -> 'a list -> 'a list = <fun>\n"
      ]
     },
     "execution_count": 22,
     "metadata": {},
     "output_type": "execute_result"
    },
    {
     "data": {
      "text/plain": [
       "val mergeTailRev :\n",
       "  ?acc:'a list -> ('a -> 'a -> bool) -> 'a list -> 'a list -> 'a list = <fun>\n"
      ]
     },
     "execution_count": 22,
     "metadata": {},
     "output_type": "execute_result"
    },
    {
     "data": {
      "text/plain": [
       "val mergeTailRev2 :\n",
       "  ?acc:'a list -> ('a -> 'a -> bool) -> 'a list -> 'a list -> 'a list = <fun>\n"
      ]
     },
     "execution_count": 22,
     "metadata": {},
     "output_type": "execute_result"
    }
   ],
   "source": [
    "let rec merge cmp xl yl = \n",
    "    match (xl, yl) with\n",
    "    | ([],_)         -> yl\n",
    "    | (_,[])         -> xl\n",
    "    | (x::xs, y::ys) -> if cmp x y\n",
    "        then x::(merge cmp xs yl)\n",
    "        else y::(merge cmp xl ys)\n",
    "\n",
    "(* uzywam List.rev *)\n",
    "let rec mergeTailRev ?(acc=[]) cmp xl yl = \n",
    "    match (xl, yl) with\n",
    "    | ([],_)         -> List.rev acc @ yl\n",
    "    | (_,[])         -> List.rev acc @ xl\n",
    "    | (x::xs, y::ys) -> if cmp x y \n",
    "        then mergeTailRev ~acc:(x::acc) cmp xs yl\n",
    "        else mergeTailRev ~acc:(y::acc) cmp xl ys"
   ]
  },
  {
   "cell_type": "code",
   "execution_count": 10,
   "metadata": {},
   "outputs": [
    {
     "data": {
      "text/plain": [
       "- : int = 97\n"
      ]
     },
     "execution_count": 10,
     "metadata": {},
     "output_type": "execute_result"
    }
   ],
   "source": [
    "List.hd @@ mergeTail (<=) sortedList1 sortedList2"
   ]
  },
  {
   "cell_type": "code",
   "execution_count": 11,
   "metadata": {},
   "outputs": [
    {
     "data": {
      "text/plain": [
       "- : int = 97\n"
      ]
     },
     "execution_count": 11,
     "metadata": {},
     "output_type": "execute_result"
    }
   ],
   "source": [
    "List.hd @@ merge (<=) sortedList1 sortedList2"
   ]
  },
  {
   "cell_type": "code",
   "execution_count": 12,
   "metadata": {},
   "outputs": [
    {
     "data": {
      "text/plain": [
       "- : int = 97\n"
      ]
     },
     "execution_count": 12,
     "metadata": {},
     "output_type": "execute_result"
    }
   ],
   "source": [
    "List.hd @@ mergeTailRev (<=) sortedList1 sortedList2"
   ]
  },
  {
   "cell_type": "code",
   "execution_count": 13,
   "metadata": {},
   "outputs": [
    {
     "data": {
      "text/plain": [
       "val split : 'a list -> 'a list * 'a list = <fun>\n"
      ]
     },
     "execution_count": 13,
     "metadata": {},
     "output_type": "execute_result"
    },
    {
     "name": "stderr",
     "output_type": "stream",
     "text": [
      "File \"[13]\", line 8, characters 37-156:\n",
      "Warning 8: this pattern-matching is not exhaustive.\n",
      "Here is an example of a value that is not matched:\n",
      "([], _::_::_)\n"
     ]
    },
    {
     "data": {
      "text/plain": [
       "val split2 : 'a list -> 'a list * 'a list = <fun>\n"
      ]
     },
     "execution_count": 13,
     "metadata": {},
     "output_type": "execute_result"
    },
    {
     "name": "stderr",
     "output_type": "stream",
     "text": [
      "File \"[13]\", line 15, characters 21-143:\n",
      "Warning 8: this pattern-matching is not exhaustive.\n",
      "Here is an example of a value that is not matched:\n",
      "([], _::_::_)\n"
     ]
    },
    {
     "data": {
      "text/plain": [
       "val split3 : 'a list -> 'a list * 'b list -> 'a list * 'a list = <fun>\n"
      ]
     },
     "execution_count": 13,
     "metadata": {},
     "output_type": "execute_result"
    }
   ],
   "source": [
    "let rec split = function\n",
    "    | []        -> ([],[])\n",
    "    | [x]       -> ([x],[])\n",
    "    | a::b::xs' -> let (xs1,xs2) = split xs' in\n",
    "        (a::xs1, b::xs2)\n",
    "\n",
    "(* metoda 2 paluszkow, odwraca 1 polowe listy *)\n",
    "let rec split2 l = let rec foo acc = function\n",
    "    | (r, [])         -> (acc,r)\n",
    "    | (r, [_])        -> (acc,r)\n",
    "    | (a::r, _::_::q) -> foo (a::acc) (r, q)\n",
    "        in foo [] (l,l)\n",
    "        \n",
    "(* metoda 2 paluszkow, odwraca 1 polowe listy *)\n",
    "let rec split3 acc = function\n",
    "    | (r, [])         -> (acc,r)\n",
    "    | (r, [_])        -> (acc,r)\n",
    "    | (a::r, _::_::q) -> split3 (a::acc) (r, q)"
   ]
  },
  {
   "cell_type": "code",
   "execution_count": 14,
   "metadata": {},
   "outputs": [
    {
     "data": {
      "text/plain": [
       "- : int list * int list = ([5; 4; 3; 2; 1], [6; 7; 8; 9; 10])\n"
      ]
     },
     "execution_count": 14,
     "metadata": {},
     "output_type": "execute_result"
    }
   ],
   "source": [
    "split2 [1;2;3;4;5;6;7;8;9;10]"
   ]
  },
  {
   "cell_type": "code",
   "execution_count": 15,
   "metadata": {},
   "outputs": [
    {
     "data": {
      "text/plain": [
       "val mergesort : 'a list -> 'a list = <fun>\n"
      ]
     },
     "execution_count": 15,
     "metadata": {},
     "output_type": "execute_result"
    }
   ],
   "source": [
    "let rec mergesort = function\n",
    "    | []  -> []\n",
    "    | [x] -> [x]\n",
    "    | xs  -> let p = split2 xs in\n",
    "        mergeTailRev (<=) (mergesort (fst p))  (mergesort (snd p))"
   ]
  },
  {
   "cell_type": "code",
   "execution_count": 16,
   "metadata": {},
   "outputs": [
    {
     "data": {
      "text/plain": [
       "- : int = 34\n"
      ]
     },
     "execution_count": 16,
     "metadata": {},
     "output_type": "execute_result"
    }
   ],
   "source": [
    "List.hd @@ mergesort randomList1"
   ]
  },
  {
   "cell_type": "markdown",
   "metadata": {},
   "source": [
    "## Zadanie 5\n",
    "\n",
    "Napisz funkcję zwracającą listę wszystkich permutacji zadanej listy."
   ]
  },
  {
   "cell_type": "code",
   "execution_count": 17,
   "metadata": {},
   "outputs": [
    {
     "data": {
      "text/plain": [
       "val foo3 : 'a -> 'a list list -> 'a list list = <fun>\n"
      ]
     },
     "execution_count": 17,
     "metadata": {},
     "output_type": "execute_result"
    },
    {
     "data": {
      "text/plain": [
       "val foo3Acc : 'a list list -> 'a -> 'a list list -> 'a list list = <fun>\n"
      ]
     },
     "execution_count": 17,
     "metadata": {},
     "output_type": "execute_result"
    },
    {
     "data": {
      "text/plain": [
       "val wstawEl : 'a -> 'a list -> 'a list list = <fun>\n"
      ]
     },
     "execution_count": 17,
     "metadata": {},
     "output_type": "execute_result"
    },
    {
     "data": {
      "text/plain": [
       "val perm : 'a list -> 'a list list = <fun>\n"
      ]
     },
     "execution_count": 17,
     "metadata": {},
     "output_type": "execute_result"
    }
   ],
   "source": [
    "let rec foo3 x = function\n",
    "    | ys::yss -> (x::ys) :: (foo3 x yss)\n",
    "    | [] -> []\n",
    "\n",
    "let rec foo3Acc acc x = function\n",
    "    | []      -> acc\n",
    "    | ys::yss -> foo3Acc ((x::ys)::acc) x yss\n",
    "    \n",
    "let rec wstawEl e = function\n",
    "    | [] -> [[e]]\n",
    "    | x::xs -> (e :: (x::xs) ) :: (foo3Acc [] x (wstawEl e xs))\n",
    "    \n",
    "let rec perm = function\n",
    "    | []    -> [[]]\n",
    "    | x::xs -> let rec foo = function\n",
    "        | [] -> []\n",
    "        | ys::yss -> (wstawEl x ys) @ (foo yss) in\n",
    "        foo (perm xs)"
   ]
  },
  {
   "cell_type": "code",
   "execution_count": 18,
   "metadata": {},
   "outputs": [
    {
     "data": {
      "text/plain": [
       "- : int list list = [[1; 2; 3]; [1; 3; 2]]\n"
      ]
     },
     "execution_count": 18,
     "metadata": {},
     "output_type": "execute_result"
    },
    {
     "data": {
      "text/plain": [
       "- : int list list = [[1; 3; 2]; [1; 2; 3]]\n"
      ]
     },
     "execution_count": 18,
     "metadata": {},
     "output_type": "execute_result"
    },
    {
     "data": {
      "text/plain": [
       "- : int list list = [[1; 2; 3]; [2; 3; 1]; [2; 1; 3]]\n"
      ]
     },
     "execution_count": 18,
     "metadata": {},
     "output_type": "execute_result"
    },
    {
     "data": {
      "text/plain": [
       "- : int list list =\n",
       "[[1; 2; 3]; [2; 3; 1]; [2; 1; 3]; [1; 3; 2]; [3; 2; 1]; [3; 1; 2]]\n"
      ]
     },
     "execution_count": 18,
     "metadata": {},
     "output_type": "execute_result"
    }
   ],
   "source": [
    "foo3 1 [[2;3];[3;2]];;\n",
    "foo3Acc [] 1 [[2;3];[3;2]];;\n",
    "wstawEl 1 [2;3];;\n",
    "perm [1;2;3]"
   ]
  },
  {
   "cell_type": "markdown",
   "metadata": {},
   "source": [
    "## Zadanie 6\n",
    "\n",
    "Napisz funkcję generującą wszystkie sufiksy danej listy. Na przykład dla listy [1;2;3] Twoja funkcja powinna zwrócić listę [[1; 2; 3]; [2; 3]; [3]]. Następnie, napisz funkcję generującą wszystkie prefiksy danej listy. Na przykład dla listy [1; 2; 3] Twoja funkcja powinna zwrócić listę [[1]; [1; 2]; [1; 2; 3]]."
   ]
  },
  {
   "cell_type": "code",
   "execution_count": 19,
   "metadata": {},
   "outputs": [
    {
     "data": {
      "text/plain": [
       "val sufix : 'a list -> 'a list list = <fun>\n"
      ]
     },
     "execution_count": 19,
     "metadata": {},
     "output_type": "execute_result"
    },
    {
     "data": {
      "text/plain": [
       "val sufixAcc : ?acc:'a list list -> 'a list -> 'a list list = <fun>\n"
      ]
     },
     "execution_count": 19,
     "metadata": {},
     "output_type": "execute_result"
    },
    {
     "data": {
      "text/plain": [
       "val prefix : 'a list -> 'a list list = <fun>\n"
      ]
     },
     "execution_count": 19,
     "metadata": {},
     "output_type": "execute_result"
    }
   ],
   "source": [
    "let rec sufix l = match l with\n",
    "    | []    -> []\n",
    "    | x::xs -> l :: sufix xs\n",
    "\n",
    "(* odwrotna kolejnosc niz w przykladzie *)\n",
    "let rec sufixAcc ?(acc=[]) = function\n",
    "    | []    -> acc\n",
    "    | x::xs -> sufixAcc ~acc:((x::xs) :: acc) xs\n",
    "    \n",
    "let rec prefix = function\n",
    "    | []    -> []\n",
    "    | x::xs -> let rec addhead = function\n",
    "        | []      -> []\n",
    "        | ys::yss -> (x :: ys) :: (addhead yss) in\n",
    "            [x] :: (addhead (prefix xs))    "
   ]
  },
  {
   "cell_type": "code",
   "execution_count": 20,
   "metadata": {},
   "outputs": [
    {
     "data": {
      "text/plain": [
       "- : int list = [212237]\n"
      ]
     },
     "execution_count": 20,
     "metadata": {},
     "output_type": "execute_result"
    }
   ],
   "source": [
    "List.hd @@ sufixAcc randomList1"
   ]
  },
  {
   "cell_type": "code",
   "execution_count": 21,
   "metadata": {},
   "outputs": [
    {
     "data": {
      "text/plain": [
       "- : int = 226420\n"
      ]
     },
     "execution_count": 21,
     "metadata": {},
     "output_type": "execute_result"
    }
   ],
   "source": [
    "List.hd @@ List.hd @@ sufix randomList1"
   ]
  },
  {
   "cell_type": "code",
   "execution_count": 22,
   "metadata": {},
   "outputs": [
    {
     "data": {
      "text/plain": [
       "- : int list = [226420]\n"
      ]
     },
     "execution_count": 22,
     "metadata": {},
     "output_type": "execute_result"
    }
   ],
   "source": [
    "List.hd @@ prefix randomList1"
   ]
  }
 ],
 "metadata": {
  "kernelspec": {
   "display_name": "OCaml system",
   "language": "OCaml",
   "name": "ocaml-jupyter"
  },
  "language_info": {
   "codemirror_mode": "text/x-ocaml",
   "file_extension": ".ml",
   "mimetype": "text/x-ocaml",
   "name": "OCaml",
   "nbconverter_exporter": null,
   "pygments_lexer": "OCaml",
   "version": "4.02.3"
  }
 },
 "nbformat": 4,
 "nbformat_minor": 2
}
