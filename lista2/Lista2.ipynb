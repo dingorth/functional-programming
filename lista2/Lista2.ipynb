{
 "cells": [
  {
   "cell_type": "markdown",
   "metadata": {},
   "source": [
    "# Lista 2\n",
    "\n",
    "### Uwaga: poniższe zadania należy rozwiązać bez użycia funkcji bibliotecznych z modułu List."
   ]
  },
  {
   "cell_type": "code",
   "execution_count": 41,
   "metadata": {
    "collapsed": true
   },
   "outputs": [
    {
     "data": {
      "text/plain": [
       "val randomListsLength : int = 7000\n"
      ]
     },
     "execution_count": 41,
     "metadata": {},
     "output_type": "execute_result"
    },
    {
     "data": {
      "text/plain": [
       "val randomList : int -> int list = <fun>\n"
      ]
     },
     "execution_count": 41,
     "metadata": {},
     "output_type": "execute_result"
    },
    {
     "data": {
      "text/plain": [
       "val sortedList1 : int list =\n",
       "  [90; 132; 325; 531; 599; 799; 929; 1130; 1181; 1195; 1460; 1807; 1868;\n",
       "   1926; 2086; 2195; 2478; 2741; 2856; 2867; 2877; 2937; 3051; 3337; 3397;\n",
       "   3519; 3641; 3722; 3784; 3846; 4238; 4464; 4725; 4726; 4935; 5012; 5122;\n",
       "   5258; 5642; 5802; 6306; 6347; 6678; 6973; 7014; 7173; 7229; 7344; 7593;\n",
       "   7648; 7723; 7907; 7942; 7995; 8335; 8348; 8409; 8504; 8817; 8884; 9121;\n",
       "   9162; 9168; 9221; 9275; 9444; 9446; 9524; 9564; 9642; 9791; 10016; 10096;\n",
       "   10136; 10222; 10289; 10575; 10587; 10777; 10788; 11021; 11032; 11177;\n",
       "   11287; 11484; 11496; 11692; 11816; 12012; 12211; 12215; 12264; 12546;\n",
       "   12970; 13007; 13068; 13173; 13261; 13297; 13486; 13730; 13978; 13983;\n",
       "   14011; 14380; 14470; 14490; 14516; 14615; 14663; 14968; 15224; 15506;\n",
       "   15512; 15534; 15538; 15710; 15871; 15956; 16264; 16464; 16603; 17035;\n",
       "   17057; 17159; 17332; 17359; 17441; 17553; 17757; 17810; 17982; 18146;\n",
       "   18535; 19063; 19628; 19683; 19720; 19734; 19855; 19886; 19957; 20005;\n",
       "   20155; 20291; 20358; 20594; 20601; 20690; 21024; 21110; 21284; 21708;\n",
       "   21999; 22067; 22106; 22306; 22734; 22749; 22872; 23046; 23104; 23115;\n",
       "   23632; 23821; 23915; 24000; 24049; 24104; 24186; 24269; 24397; 24866;\n",
       "   25346; 25490; 25507; 25556; 25574; 25587; 25720; 25864; 25953; 26110;\n",
       "   26244; 26360; 26362; 26547; 26550; 26606; 26836; 27029; 27061; 27722;\n",
       "   27760; 27840; 28276; 28381; 28756; 28807; 29059; 29065; 29143; 29149;\n",
       "   29516; 29529; 29591; 29706; 29754; 29857; 30231; 30426; 30728; 30804;\n",
       "   31038; 31040; 31047; 31344; 31555; 31595; 31832; 32134; 32187; 32260;\n",
       "   32402; 32607; 32683; 32847; 33308; 33470; 33555; 33741; 33888; 34050;\n",
       "   34066; 34131; 34151; 34164; 34183; 34200; 34225; 34297; 34671; 34757;\n",
       "   34784; 35191; 35251; 35466; 35527; 35749; 35774; 35939; 36070; 36129;\n",
       "   36153; 36169; 36243; 36367; 36432; 36525; 36810; 37162; 37184; 37193;\n",
       "   37335; 37360; 37442; 37549; 37614; 37805; 37865; 37906; 37931; 38012;\n",
       "   38203; 38245; 38326; 38429; 38716; 39107; 39156; 39181; 39221; 39463;\n",
       "   39464; 39572; 39865; 39888; 39893; 39907; 40126; 40356; 40447; 40502;\n",
       "   40552; 40559; 40656; 40750; 40891; 41240; ...]\n"
      ]
     },
     "execution_count": 41,
     "metadata": {},
     "output_type": "execute_result"
    },
    {
     "data": {
      "text/plain": [
       "val sortedList2 : int list =\n",
       "  [58; 118; 262; 574; 581; 1019; 1112; 1264; 1334; 1337; 1413; 1524; 1569;\n",
       "   1634; 1671; 1829; 1847; 1886; 1940; 2008; 2287; 2590; 2749; 2931; 3045;\n",
       "   3091; 3261; 3452; 3568; 3766; 3795; 3803; 4487; 4492; 4727; 5026; 5036;\n",
       "   5159; 5314; 5423; 5477; 5576; 5774; 5838; 5895; 5961; 5970; 6033; 6261;\n",
       "   6304; 6376; 6618; 7178; 7370; 7514; 7549; 7648; 8055; 8355; 8593; 8841;\n",
       "   8932; 8933; 8985; 9018; 9044; 9112; 9297; 9422; 9526; 9702; 9714; 9939;\n",
       "   10095; 10170; 10403; 10739; 10914; 10960; 11069; 11169; 11211; 11242;\n",
       "   11254; 11758; 11933; 11954; 11985; 12122; 12249; 12349; 12498; 12852;\n",
       "   12955; 13137; 13217; 13225; 13230; 13238; 13359; 13502; 14124; 14174;\n",
       "   14512; 14548; 14601; 14632; 14633; 14639; 14658; 14662; 14816; 15090;\n",
       "   15384; 15504; 15570; 15648; 15705; 15706; 15868; 15886; 15981; 16183;\n",
       "   16413; 16931; 16938; 16948; 16960; 17169; 17394; 17521; 17758; 17929;\n",
       "   18103; 18266; 18326; 18372; 18467; 18613; 18632; 18669; 18817; 18854;\n",
       "   18946; 19028; 19171; 19436; 19673; 19676; 20016; 20105; 20264; 20334;\n",
       "   20425; 20635; 20724; 20731; 20749; 20963; 21105; 21652; 21668; 21699;\n",
       "   22314; 22413; 23100; 23117; 23386; 23754; 24274; 24304; 24523; 24631;\n",
       "   24786; 24849; 25435; 26014; 26261; 26546; 26815; 26868; 26929; 27052;\n",
       "   27204; 27329; 27338; 28008; 28065; 28099; 28136; 28166; 28331; 28558;\n",
       "   28708; 28963; 29409; 29462; 29530; 29572; 29886; 29925; 29949; 30157;\n",
       "   30181; 30309; 30400; 30485; 30577; 30757; 30823; 30933; 31026; 31083;\n",
       "   31303; 31421; 31437; 31499; 31509; 31696; 31749; 31931; 32280; 32332;\n",
       "   32395; 32554; 32634; 32705; 32734; 33050; 33067; 33415; 33620; 33829;\n",
       "   34071; 34255; 34603; 34605; 34814; 35256; 35441; 35513; 35685; 35744;\n",
       "   35786; 35926; 35957; 36113; 36212; 36234; 36366; 36437; 36536; 36604;\n",
       "   36781; 36945; 37086; 37499; 37581; 37707; 38210; 38695; 38913; 39006;\n",
       "   39073; 39080; 39125; 39137; 39139; 39218; 39233; 39277; 39297; 39411;\n",
       "   39622; 39717; 40050; 40173; 40413; 40533; 40637; 40666; 40670; 40733;\n",
       "   40756; 40904; 41332; 41346; 41397; 41414; 41427; 41570; 41585; 41599;\n",
       "   41663; 41731; 42087; 42473; 42481; 42634; ...]\n"
      ]
     },
     "execution_count": 41,
     "metadata": {},
     "output_type": "execute_result"
    },
    {
     "data": {
      "text/plain": [
       "val randomList1 : int list =\n",
       "  [780260; 875985; 168272; 600069; 6146; 378562; 489019; 813834; 14306;\n",
       "   362863; 98511; 220550; 460547; 297778; 89728; 956244; 316880; 796502;\n",
       "   490409; 867553; 114789; 513169; 660532; 729462; 215077; 978266; 654486;\n",
       "   954862; 157784; 903515; 536943; 724386; 244906; 970113; 355129; 166951;\n",
       "   182350; 178679; 909207; 439012; 465472; 135481; 196839; 658523; 201716;\n",
       "   726165; 800508; 62061; 776684; 157303; 92337; 922231; 436820; 917306;\n",
       "   795373; 797715; 372926; 939994; 986783; 581005; 938017; 52187; 904627;\n",
       "   317091; 897390; 704856; 765517; 543863; 96061; 105397; 897556; 996648;\n",
       "   19821; 74922; 775224; 192573; 818162; 743230; 675924; 417362; 347154;\n",
       "   456290; 968070; 318609; 707313; 226579; 819773; 669650; 72729; 650288;\n",
       "   401427; 380295; 824420; 545648; 541440; 210631; 115679; 863717; 625151;\n",
       "   750947; 649847; 57265; 127941; 359324; 810146; 377881; 954163; 118210;\n",
       "   209995; 568789; 719752; 703272; 867275; 336493; 179574; 557727; 227766;\n",
       "   100814; 775663; 428582; 330979; 643634; 918715; 86933; 455543; 582143;\n",
       "   610540; 660497; 264792; 139149; 238427; 699966; 533233; 107122; 439435;\n",
       "   643872; 588996; 631583; 139029; 149591; 998811; 718955; 893995; 644155;\n",
       "   61147; 499630; 461569; 737473; 90097; 701138; 600075; 455197; 598922;\n",
       "   486011; 512522; 949884; 524045; 20828; 919892; 908127; 788886; 64399;\n",
       "   721023; 802216; 569971; 775; 551078; 223121; 17182; 421781; 837958;\n",
       "   232103; 10713; 816324; 570315; 875777; 44731; 174553; 574407; 505656;\n",
       "   58109; 482407; 98474; 350265; 915866; 720740; 472847; 537147; 180482;\n",
       "   834612; 365858; 356251; 459089; 53468; 508519; 708242; 819497; 815655;\n",
       "   185365; 196712; 28859; 163067; 584445; 643030; 10348; 714606; 242291;\n",
       "   877593; 338492; 970962; 51193; 483691; 481228; 73508; 164837; 708148;\n",
       "   261935; 748738; 803289; 292527; 731568; 149283; 573653; 225068; 809103;\n",
       "   69052; 168067; 173304; 559967; 903005; 544279; 38814; 235915; 276543;\n",
       "   6924; 847857; 742976; 24962; 927240; 207731; 458799; 465946; 475692;\n",
       "   629791; 103045; 216568; 524443; 234037; 244356; 439464; 281999; 388009;\n",
       "   255711; 282360; 394253; 731848; 927153; 49716; 377936; 904288; 713459;\n",
       "   217343; 692175; 872607; 253996; 327056; 749796; 851452; 970450; 948263;\n",
       "   925531; 769707; 504378; 363811; 10553; 85395; 635414; 291265; 572634;\n",
       "   819081; 141892; 118363; 537203; 397499; 931387; 326920; 88464; 105126;\n",
       "   22553; 421669; 839892; 891533; 796326; 978995; 282187; 689101; 961586;\n",
       "   853717; 361077; ...]\n"
      ]
     },
     "execution_count": 41,
     "metadata": {},
     "output_type": "execute_result"
    },
    {
     "data": {
      "text/plain": [
       "val randomList2 : int list =\n",
       "  [8280; 741922; 54233; 45233; 526155; 619633; 22012; 853520; 832161; 613474;\n",
       "   694258; 3043; 577995; 608905; 213500; 984984; 801458; 273797; 893005;\n",
       "   852449; 509434; 832890; 842946; 989463; 757306; 776333; 896843; 754255;\n",
       "   674537; 288016; 713851; 939208; 445517; 283266; 895838; 216415; 776494;\n",
       "   106517; 283581; 992397; 665379; 750692; 156780; 168; 190142; 5605; 335186;\n",
       "   792285; 571324; 174775; 760219; 996216; 2900; 288992; 622021; 810907;\n",
       "   296389; 770966; 149395; 51575; 584973; 915510; 569948; 839765; 689898;\n",
       "   685400; 846247; 577840; 160576; 207899; 391631; 750982; 702471; 460045;\n",
       "   92228; 513226; 829988; 553962; 109253; 688203; 479950; 125883; 604846;\n",
       "   622962; 444887; 540187; 369250; 347559; 335189; 952278; 370172; 198650;\n",
       "   687745; 75683; 600754; 914391; 48221; 438548; 649785; 676900; 175620;\n",
       "   781246; 683032; 624954; 694845; 376190; 133203; 379945; 585942; 823666;\n",
       "   183461; 690639; 177618; 938930; 681389; 386329; 969576; 494263; 980855;\n",
       "   775513; 637166; 407702; 669857; 225478; 32272; 352194; 67964; 77519;\n",
       "   765206; 457858; 121849; 191852; 709852; 27404; 246577; 531114; 690099;\n",
       "   665919; 683407; 58548; 570610; 874987; 366714; 559678; 56947; 704313;\n",
       "   270615; 204066; 785226; 990377; 588236; 712528; 673338; 191918; 555049;\n",
       "   725589; 71407; 397453; 120218; 905548; 686088; 467266; 696539; 527415;\n",
       "   253079; 308454; 323923; 617925; 623788; 718883; 857566; 765506; 450873;\n",
       "   732309; 929118; 666440; 734365; 219758; 670405; 48482; 280789; 670526;\n",
       "   699131; 601484; 771771; 396384; 495303; 924278; 774333; 679952; 207193;\n",
       "   72167; 783964; 706367; 942808; 546925; 165945; 376234; 372399; 390511;\n",
       "   969921; 792697; 533661; 478583; 709574; 917707; 13402; 813683; 420132;\n",
       "   900483; 972121; 888931; 364937; 182098; 698338; 355771; 683297; 731986;\n",
       "   584600; 447984; 142524; 689534; 245527; 233266; 490811; 64878; 231846;\n",
       "   714135; 22727; 11422; 653033; 662505; 799631; 769932; 76360; 133694;\n",
       "   47405; 258879; 644991; 157830; 713071; 763314; 339669; 68163; 537438;\n",
       "   259468; 826647; 292533; 957405; 877929; 315102; 193652; 353509; 360979;\n",
       "   479323; 307394; 993057; 505539; 402225; 575885; 612115; 496322; 168700;\n",
       "   262287; 929230; 208823; 549248; 296780; 644665; 180687; 529143; 132587;\n",
       "   516385; 706667; 132882; 690706; 336009; 626395; 495749; 925223; 813650;\n",
       "   468147; 53744; 446840; 141140; 898538; 235638; 279187; 582509; 609344;\n",
       "   326240; 750636; 614222; 206123; 370524; 580492; 988738; 633005; 935292;\n",
       "   ...]\n"
      ]
     },
     "execution_count": 41,
     "metadata": {},
     "output_type": "execute_result"
    }
   ],
   "source": [
    "let randomListsLength = 7000\n",
    "let rec randomList n = if n == 0 then [] else Random.int 1000000 :: randomList (n-1)\n",
    "let sortedList1 = List.sort compare (randomList randomListsLength)\n",
    "let sortedList2 = List.sort compare (randomList randomListsLength) \n",
    "let randomList1 = randomList randomListsLength\n",
    "let randomList2 = randomList 100000"
   ]
  },
  {
   "cell_type": "markdown",
   "metadata": {},
   "source": [
    "## Zadanie 1\n",
    "\n",
    "Napisz funkcję znajdującą wszystkie podlisty (rozumiane jako podciągi, niekoniecznie kolejnych elementów) listy zadanej jako argument. Zadbaj o to by Twoja funkcja nie generowała nieużytków."
   ]
  },
  {
   "cell_type": "code",
   "execution_count": 130,
   "metadata": {
    "scrolled": true
   },
   "outputs": [
    {
     "data": {
      "text/plain": [
       "val sublists : 'a list -> 'a list list = <fun>\n"
      ]
     },
     "execution_count": 130,
     "metadata": {},
     "output_type": "execute_result"
    }
   ],
   "source": [
    "let rec sublists = function\n",
    "    | []    -> [[]]\n",
    "    | x::xs -> let sub = sublists xs in\n",
    "        let rec aux acc = function\n",
    "            | []      -> acc\n",
    "            | ys::yss -> aux ((x::ys)::acc) yss\n",
    "        in aux sub sub"
   ]
  },
  {
   "cell_type": "code",
   "execution_count": 134,
   "metadata": {},
   "outputs": [
    {
     "data": {
      "text/plain": [
       "- : int = 16\n"
      ]
     },
     "execution_count": 134,
     "metadata": {},
     "output_type": "execute_result"
    }
   ],
   "source": [
    "List.length @@ sublists [1;2;3;4]"
   ]
  },
  {
   "cell_type": "markdown",
   "metadata": {},
   "source": [
    "## Zadanie 2\n",
    "\n",
    "Napisz dwie wersje funkcji (w tym jedną za pomoca rekursji ogonowej), która oblicza n-ty wyraz ciągu zdefiniowanego wzorem:\n",
    "\n",
    "$$ a_{0} = 0 $$\n",
    "$$ a_{n} = 2 * a_{n-1} + 1 $$"
   ]
  },
  {
   "cell_type": "code",
   "execution_count": 48,
   "metadata": {},
   "outputs": [
    {
     "data": {
      "text/plain": [
       "val normalRec : int -> int = <fun>\n"
      ]
     },
     "execution_count": 48,
     "metadata": {},
     "output_type": "execute_result"
    },
    {
     "data": {
      "text/plain": [
       "val tailRec : ?acc:int -> int -> int = <fun>\n"
      ]
     },
     "execution_count": 48,
     "metadata": {},
     "output_type": "execute_result"
    }
   ],
   "source": [
    "let rec normalRec = function\n",
    "    | 0 -> 0\n",
    "    | n -> 2 * (normalRec (n-1)) +1\n",
    "    \n",
    "let rec tailRec ?(acc=0) = function\n",
    "    | 0 -> acc\n",
    "    | n -> tailRec ~acc:(2 * acc + 1) (n-1)"
   ]
  },
  {
   "cell_type": "code",
   "execution_count": 49,
   "metadata": {},
   "outputs": [
    {
     "ename": "error",
     "evalue": "error",
     "output_type": "error",
     "traceback": [
      "\u001b[31mStack overflow during evaluation (looping recursion?).\n\u001b[0m"
     ]
    }
   ],
   "source": [
    "normalRec 1000000 (* Stack overflow *)"
   ]
  },
  {
   "cell_type": "code",
   "execution_count": 50,
   "metadata": {},
   "outputs": [
    {
     "data": {
      "text/plain": [
       "- : int = -1\n"
      ]
     },
     "execution_count": 50,
     "metadata": {},
     "output_type": "execute_result"
    }
   ],
   "source": [
    "tailRec 10000000 (* działa jak iteracja *)"
   ]
  },
  {
   "cell_type": "markdown",
   "metadata": {},
   "source": [
    "## Zadanie 3\n",
    "\n",
    "Zdefiniuj funkcję cycle : 'a list -> int -> 'a list, która w cykliczny sposób przesuwa listę o zadaną liczbę pozycji n, przy czym zakładamy, że długość listy jest nie mniejsza niż n. Np. cycle [1;2;3;4] 3 = [2;3;4;1]."
   ]
  },
  {
   "cell_type": "code",
   "execution_count": 51,
   "metadata": {},
   "outputs": [
    {
     "data": {
      "text/plain": [
       "val concatLen : int -> 'a list -> 'a list -> 'a list * int = <fun>\n"
      ]
     },
     "execution_count": 51,
     "metadata": {},
     "output_type": "execute_result"
    },
    {
     "data": {
      "text/plain": [
       "val dropFirst : int -> 'a list -> 'a list = <fun>\n"
      ]
     },
     "execution_count": 51,
     "metadata": {},
     "output_type": "execute_result"
    },
    {
     "data": {
      "text/plain": [
       "val take : int -> 'a list -> 'a list = <fun>\n"
      ]
     },
     "execution_count": 51,
     "metadata": {},
     "output_type": "execute_result"
    },
    {
     "data": {
      "text/plain": [
       "val cycle : 'a list -> int -> 'a list = <fun>\n"
      ]
     },
     "execution_count": 51,
     "metadata": {},
     "output_type": "execute_result"
    }
   ],
   "source": [
    "let rec concatLen acc l = function\n",
    "    | []    -> (l,acc)\n",
    "    | x::xs -> let t = concatLen (acc + 1) l xs in\n",
    "        (x :: fst t, snd t + 1)\n",
    "\n",
    "let rec dropFirst n l = \n",
    "    if n == 0 \n",
    "    then l\n",
    "    else match l with\n",
    "        | x::xs -> dropFirst (n-1) xs\n",
    "        | []    -> []\n",
    "        \n",
    "let rec take n l =\n",
    "    if n == 0\n",
    "    then []\n",
    "    else match l with\n",
    "        | [] -> []\n",
    "        | x::xs  -> x :: take (n-1) xs\n",
    "\n",
    "let rec cycle l n = \n",
    "    let t = concatLen 0 l l in\n",
    "    let len = snd t / 2 and con = fst t in\n",
    "    let shift = len - n in\n",
    "        take len (dropFirst shift con)"
   ]
  },
  {
   "cell_type": "code",
   "execution_count": 52,
   "metadata": {},
   "outputs": [
    {
     "data": {
      "text/plain": [
       "- : int list * int = ([1; 2; 1; 2], 4)\n"
      ]
     },
     "execution_count": 52,
     "metadata": {},
     "output_type": "execute_result"
    },
    {
     "data": {
      "text/plain": [
       "- : int list = [6; 7]\n"
      ]
     },
     "execution_count": 52,
     "metadata": {},
     "output_type": "execute_result"
    },
    {
     "data": {
      "text/plain": [
       "- : int list = [1; 2]\n"
      ]
     },
     "execution_count": 52,
     "metadata": {},
     "output_type": "execute_result"
    },
    {
     "data": {
      "text/plain": [
       "- : int list = [2; 3; 4; 1]\n"
      ]
     },
     "execution_count": 52,
     "metadata": {},
     "output_type": "execute_result"
    }
   ],
   "source": [
    "concatLen 0 [1;2] [1;2];;\n",
    "dropFirst 5 [1;2;3;4;5;6;7];;\n",
    "take 2 [1;2;3;4];;\n",
    "cycle [1;2;3;4] 3"
   ]
  },
  {
   "cell_type": "markdown",
   "metadata": {},
   "source": [
    "## Zadanie 4\n",
    "\n",
    "1. Napisz funkcję merge, która łączy dwie listy posortowane rosnąco w pewnym porządku ≤ tak, by wynik działania funkcji był także listą posortowaną rosnąco w tym samym porządku. Argumentami funkcji merge powinny być: funkcja cmp : 'a -> 'a -> bool (zakładamy, że cmp a b = true wtw a ≤ b) i dwie listy elementów typu 'a. Przykład: merge (<=) [1;2;5] [3;4;5] utworzy listę [1;2;3;4;5;5].\n",
    "2. Zapisz tę funkcję używając rekursji ogonowej, a następnie porównaj działanie obu funkcji na odpowiednich przykładach.\n",
    "3. Wykorzystaj funkcję merge w wersji ogonowej do napisania funkcji sortowania przez scalanie.\n",
    "Zaproponuj alternatywną implementację algorytmu sortowania przez scalanie, w której funkcja merge jest ogonowa, ale nie wykonuje odwracania list. Nie przejmuj się, jeżeli otrzymasz algorytm sortowania, który nie jest stabilny. Porównaj szybkość działania tej implementacji z tą z punktu 3."
   ]
  },
  {
   "cell_type": "code",
   "execution_count": 17,
   "metadata": {},
   "outputs": [
    {
     "data": {
      "text/plain": [
       "val merge : ('a -> 'a -> bool) -> 'a list -> 'a list -> 'a list = <fun>\n"
      ]
     },
     "execution_count": 17,
     "metadata": {},
     "output_type": "execute_result"
    },
    {
     "data": {
      "text/plain": [
       "val mrev : 'a list -> 'a list = <fun>\n"
      ]
     },
     "execution_count": 17,
     "metadata": {},
     "output_type": "execute_result"
    },
    {
     "data": {
      "text/plain": [
       "val mergeTailRev :\n",
       "  ?acc:'a list -> ('a -> 'a -> bool) -> 'a list -> 'a list -> 'a list = <fun>\n"
      ]
     },
     "execution_count": 17,
     "metadata": {},
     "output_type": "execute_result"
    }
   ],
   "source": [
    "let rec merge cmp xl yl = \n",
    "    match (xl, yl) with\n",
    "    | ([],_)         -> yl\n",
    "    | (_,[])         -> xl\n",
    "    | (x::xs, y::ys) -> if cmp x y\n",
    "        then x::(merge cmp xs yl)\n",
    "        else y::(merge cmp xl ys)\n",
    "\n",
    "let rec revAppend acc l = \n",
    "    let rec aux acc = function\n",
    "    | []    -> acc\n",
    "    | x::xs -> aux (x::acc) xs\n",
    "    in aux [] l\n",
    "\n",
    "let rec mergeTailRev ?(acc=[]) cmp xl yl = \n",
    "    match (xl, yl) with\n",
    "    | ([],_)         -> revAppend acc yl \n",
    "    | (_,[])         -> revAppend acc xl\n",
    "    | (x::xs, y::ys) -> if cmp x y \n",
    "        then mergeTailRev ~acc:(x::acc) cmp xs yl\n",
    "        else mergeTailRev ~acc:(y::acc) cmp xl ys"
   ]
  },
  {
   "cell_type": "code",
   "execution_count": 22,
   "metadata": {},
   "outputs": [
    {
     "data": {
      "text/plain": [
       "- : int = 102\n"
      ]
     },
     "execution_count": 22,
     "metadata": {},
     "output_type": "execute_result"
    }
   ],
   "source": [
    "List.hd @@ merge (<=) sortedList1 sortedList2"
   ]
  },
  {
   "cell_type": "code",
   "execution_count": 23,
   "metadata": {},
   "outputs": [
    {
     "data": {
      "text/plain": [
       "- : int = 102\n"
      ]
     },
     "execution_count": 23,
     "metadata": {},
     "output_type": "execute_result"
    }
   ],
   "source": [
    "List.hd @@ mergeTailRev (<=) sortedList1 sortedList2"
   ]
  },
  {
   "cell_type": "code",
   "execution_count": 24,
   "metadata": {},
   "outputs": [
    {
     "data": {
      "text/plain": [
       "val split : 'a list -> 'a list * 'a list = <fun>\n"
      ]
     },
     "execution_count": 24,
     "metadata": {},
     "output_type": "execute_result"
    },
    {
     "name": "stderr",
     "output_type": "stream",
     "text": [
      "File \"[24]\", line 8, characters 37-156:\n",
      "Warning 8: this pattern-matching is not exhaustive.\n",
      "Here is an example of a value that is not matched:\n",
      "([], _::_::_)\n"
     ]
    },
    {
     "data": {
      "text/plain": [
       "val split2 : 'a list -> 'a list * 'a list = <fun>\n"
      ]
     },
     "execution_count": 24,
     "metadata": {},
     "output_type": "execute_result"
    },
    {
     "name": "stderr",
     "output_type": "stream",
     "text": [
      "File \"[24]\", line 15, characters 21-143:\n",
      "Warning 8: this pattern-matching is not exhaustive.\n",
      "Here is an example of a value that is not matched:\n",
      "([], _::_::_)\n"
     ]
    },
    {
     "data": {
      "text/plain": [
       "val split3 : 'a list -> 'a list * 'b list -> 'a list * 'a list = <fun>\n"
      ]
     },
     "execution_count": 24,
     "metadata": {},
     "output_type": "execute_result"
    }
   ],
   "source": [
    "let rec split = function\n",
    "    | []        -> ([],[])\n",
    "    | [x]       -> ([x],[])\n",
    "    | a::b::xs' -> let (xs1,xs2) = split xs' in\n",
    "        (a::xs1, b::xs2)\n",
    "\n",
    "(* metoda 2 paluszkow, odwraca 1 polowe listy *)\n",
    "let rec split2 l = let rec foo acc = function\n",
    "    | (r, [])         -> (acc,r)\n",
    "    | (r, [_])        -> (acc,r)\n",
    "    | (a::r, _::_::q) -> foo (a::acc) (r, q)\n",
    "        in foo [] (l,l)\n",
    "        \n",
    "(* metoda 2 paluszkow, odwraca 1 polowe listy *)\n",
    "let rec split3 acc = function\n",
    "    | (r, [])         -> (acc,r)\n",
    "    | (r, [_])        -> (acc,r)\n",
    "    | (a::r, _::_::q) -> split3 (a::acc) (r, q)"
   ]
  },
  {
   "cell_type": "code",
   "execution_count": 25,
   "metadata": {},
   "outputs": [
    {
     "data": {
      "text/plain": [
       "- : int list * int list = ([5; 4; 3; 2; 1], [6; 7; 8; 9; 10])\n"
      ]
     },
     "execution_count": 25,
     "metadata": {},
     "output_type": "execute_result"
    }
   ],
   "source": [
    "split2 [1;2;3;4;5;6;7;8;9;10]"
   ]
  },
  {
   "cell_type": "code",
   "execution_count": 29,
   "metadata": {},
   "outputs": [
    {
     "data": {
      "text/plain": [
       "val mergesort : 'a list -> 'a list = <fun>\n"
      ]
     },
     "execution_count": 29,
     "metadata": {},
     "output_type": "execute_result"
    },
    {
     "data": {
      "text/plain": [
       "val mergesort2 : 'a list -> 'a list = <fun>\n"
      ]
     },
     "execution_count": 29,
     "metadata": {},
     "output_type": "execute_result"
    }
   ],
   "source": [
    "let rec mergesort = function\n",
    "    | []  -> []\n",
    "    | [x] -> [x]\n",
    "    | xs  -> let p = split2 xs in\n",
    "        merge (<=) (mergesort (fst p))  (mergesort (snd p))\n",
    "\n",
    "let rec mergesort2 = function\n",
    "    | []  -> []\n",
    "    | [x] -> [x]\n",
    "    | xs  -> let p = split2 xs in\n",
    "        mergeTailRev (<=) (mergesort (fst p))  (mergesort (snd p))"
   ]
  },
  {
   "cell_type": "code",
   "execution_count": 44,
   "metadata": {},
   "outputs": [
    {
     "ename": "error",
     "evalue": "error",
     "output_type": "error",
     "traceback": [
      "\u001b[31mStack overflow during evaluation (looping recursion?).\n\u001b[0m"
     ]
    }
   ],
   "source": [
    "List.hd @@ mergesort randomList2"
   ]
  },
  {
   "cell_type": "code",
   "execution_count": 45,
   "metadata": {},
   "outputs": [
    {
     "data": {
      "text/plain": [
       "- : int = 89\n"
      ]
     },
     "execution_count": 45,
     "metadata": {},
     "output_type": "execute_result"
    }
   ],
   "source": [
    "List.hd @@ mergesort2 randomList1"
   ]
  },
  {
   "cell_type": "markdown",
   "metadata": {},
   "source": [
    "## Zadanie 5\n",
    "\n",
    "Napisz funkcję zwracającą listę wszystkich permutacji zadanej listy."
   ]
  },
  {
   "cell_type": "code",
   "execution_count": 17,
   "metadata": {},
   "outputs": [
    {
     "data": {
      "text/plain": [
       "val foo3 : 'a -> 'a list list -> 'a list list = <fun>\n"
      ]
     },
     "execution_count": 17,
     "metadata": {},
     "output_type": "execute_result"
    },
    {
     "data": {
      "text/plain": [
       "val foo3Acc : 'a list list -> 'a -> 'a list list -> 'a list list = <fun>\n"
      ]
     },
     "execution_count": 17,
     "metadata": {},
     "output_type": "execute_result"
    },
    {
     "data": {
      "text/plain": [
       "val wstawEl : 'a -> 'a list -> 'a list list = <fun>\n"
      ]
     },
     "execution_count": 17,
     "metadata": {},
     "output_type": "execute_result"
    },
    {
     "data": {
      "text/plain": [
       "val perm : 'a list -> 'a list list = <fun>\n"
      ]
     },
     "execution_count": 17,
     "metadata": {},
     "output_type": "execute_result"
    }
   ],
   "source": [
    "let rec foo3 x = function\n",
    "    | ys::yss -> (x::ys) :: (foo3 x yss)\n",
    "    | [] -> []\n",
    "\n",
    "let rec foo3Acc acc x = function\n",
    "    | []      -> acc\n",
    "    | ys::yss -> foo3Acc ((x::ys)::acc) x yss\n",
    "    \n",
    "let rec wstawEl e = function\n",
    "    | [] -> [[e]]\n",
    "    | x::xs -> (e :: (x::xs) ) :: (foo3Acc [] x (wstawEl e xs))\n",
    "    \n",
    "let rec perm = function\n",
    "    | []    -> [[]]\n",
    "    | x::xs -> let rec foo = function\n",
    "        | [] -> []\n",
    "        | ys::yss -> (wstawEl x ys) @ (foo yss) in\n",
    "        foo (perm xs)"
   ]
  },
  {
   "cell_type": "code",
   "execution_count": 18,
   "metadata": {},
   "outputs": [
    {
     "data": {
      "text/plain": [
       "- : int list list = [[1; 2; 3]; [1; 3; 2]]\n"
      ]
     },
     "execution_count": 18,
     "metadata": {},
     "output_type": "execute_result"
    },
    {
     "data": {
      "text/plain": [
       "- : int list list = [[1; 3; 2]; [1; 2; 3]]\n"
      ]
     },
     "execution_count": 18,
     "metadata": {},
     "output_type": "execute_result"
    },
    {
     "data": {
      "text/plain": [
       "- : int list list = [[1; 2; 3]; [2; 3; 1]; [2; 1; 3]]\n"
      ]
     },
     "execution_count": 18,
     "metadata": {},
     "output_type": "execute_result"
    },
    {
     "data": {
      "text/plain": [
       "- : int list list =\n",
       "[[1; 2; 3]; [2; 3; 1]; [2; 1; 3]; [1; 3; 2]; [3; 2; 1]; [3; 1; 2]]\n"
      ]
     },
     "execution_count": 18,
     "metadata": {},
     "output_type": "execute_result"
    }
   ],
   "source": [
    "foo3 1 [[2;3];[3;2]];;\n",
    "foo3Acc [] 1 [[2;3];[3;2]];;\n",
    "wstawEl 1 [2;3];;\n",
    "perm [1;2;3]"
   ]
  },
  {
   "cell_type": "markdown",
   "metadata": {},
   "source": [
    "## Zadanie 6\n",
    "\n",
    "Napisz funkcję generującą wszystkie sufiksy danej listy. Na przykład dla listy [1;2;3] Twoja funkcja powinna zwrócić listę [[1; 2; 3]; [2; 3]; [3]]. Następnie, napisz funkcję generującą wszystkie prefiksy danej listy. Na przykład dla listy [1; 2; 3] Twoja funkcja powinna zwrócić listę [[1]; [1; 2]; [1; 2; 3]]."
   ]
  },
  {
   "cell_type": "code",
   "execution_count": 19,
   "metadata": {},
   "outputs": [
    {
     "data": {
      "text/plain": [
       "val sufix : 'a list -> 'a list list = <fun>\n"
      ]
     },
     "execution_count": 19,
     "metadata": {},
     "output_type": "execute_result"
    },
    {
     "data": {
      "text/plain": [
       "val sufixAcc : ?acc:'a list list -> 'a list -> 'a list list = <fun>\n"
      ]
     },
     "execution_count": 19,
     "metadata": {},
     "output_type": "execute_result"
    },
    {
     "data": {
      "text/plain": [
       "val prefix : 'a list -> 'a list list = <fun>\n"
      ]
     },
     "execution_count": 19,
     "metadata": {},
     "output_type": "execute_result"
    }
   ],
   "source": [
    "let rec sufix l = match l with\n",
    "    | []    -> []\n",
    "    | x::xs -> l :: sufix xs\n",
    "\n",
    "(* odwrotna kolejnosc niz w przykladzie *)\n",
    "let rec sufixAcc ?(acc=[]) = function\n",
    "    | []    -> acc\n",
    "    | x::xs -> sufixAcc ~acc:((x::xs) :: acc) xs\n",
    "    \n",
    "let rec prefix = function\n",
    "    | []    -> []\n",
    "    | x::xs -> let rec addhead = function\n",
    "        | []      -> []\n",
    "        | ys::yss -> (x :: ys) :: (addhead yss) in\n",
    "            [x] :: (addhead (prefix xs))    "
   ]
  },
  {
   "cell_type": "code",
   "execution_count": 20,
   "metadata": {},
   "outputs": [
    {
     "data": {
      "text/plain": [
       "- : int list = [212237]\n"
      ]
     },
     "execution_count": 20,
     "metadata": {},
     "output_type": "execute_result"
    }
   ],
   "source": [
    "List.hd @@ sufixAcc randomList1"
   ]
  },
  {
   "cell_type": "code",
   "execution_count": 21,
   "metadata": {},
   "outputs": [
    {
     "data": {
      "text/plain": [
       "- : int = 226420\n"
      ]
     },
     "execution_count": 21,
     "metadata": {},
     "output_type": "execute_result"
    }
   ],
   "source": [
    "List.hd @@ List.hd @@ sufix randomList1"
   ]
  },
  {
   "cell_type": "code",
   "execution_count": 22,
   "metadata": {},
   "outputs": [
    {
     "data": {
      "text/plain": [
       "- : int list = [226420]\n"
      ]
     },
     "execution_count": 22,
     "metadata": {},
     "output_type": "execute_result"
    }
   ],
   "source": [
    "List.hd @@ prefix randomList1"
   ]
  }
 ],
 "metadata": {
  "kernelspec": {
   "display_name": "OCaml system",
   "language": "OCaml",
   "name": "ocaml-jupyter"
  },
  "language_info": {
   "codemirror_mode": "text/x-ocaml",
   "file_extension": ".ml",
   "mimetype": "text/x-ocaml",
   "name": "OCaml",
   "nbconverter_exporter": null,
   "pygments_lexer": "OCaml",
   "version": "4.02.3"
  }
 },
 "nbformat": 4,
 "nbformat_minor": 2
}
